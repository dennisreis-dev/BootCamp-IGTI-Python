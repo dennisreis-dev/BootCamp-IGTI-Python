{
  "nbformat": 4,
  "nbformat_minor": 0,
  "metadata": {
    "colab": {
      "name": "Dicionarios.ipynb",
      "provenance": [],
      "collapsed_sections": [],
      "authorship_tag": "ABX9TyNPYoiC5dv4VC2n+57LEj1O"
    },
    "kernelspec": {
      "name": "python3",
      "display_name": "Python 3"
    }
  },
  "cells": [
    {
      "cell_type": "markdown",
      "metadata": {
        "id": "lSYcnHhbpc59",
        "colab_type": "text"
      },
      "source": [
        "**DICIONÁRIOS**\n",
        "\n",
        "\n",
        "1.   Não Ordenado\n",
        "2.   Armazena o par chave,valor\n",
        "3.   As Chaves não podem ser Repetidas\n",
        "4.   Podem Armazena Vários Tipos de Valores\n",
        "\n",
        "\n",
        "\n"
      ]
    },
    {
      "cell_type": "code",
      "metadata": {
        "id": "Y8vvvi1RoS2Y",
        "colab_type": "code",
        "colab": {
          "base_uri": "https://localhost:8080/",
          "height": 68
        },
        "outputId": "d7b5d3ee-0c9c-410c-9834-a170ae80dc72"
      },
      "source": [
        "#Criando um dicionário vazio{}\n",
        "dicionario = {}\n",
        "print(\"Dicionário vazio: \")\n",
        "print(dicionario)\n",
        "print(type(dicionario))"
      ],
      "execution_count": null,
      "outputs": [
        {
          "output_type": "stream",
          "text": [
            "Dicionário vazio: \n",
            "{}\n",
            "<class 'dict'>\n"
          ],
          "name": "stdout"
        }
      ]
    },
    {
      "cell_type": "markdown",
      "metadata": {
        "id": "7d_DcPdZqfOG",
        "colab_type": "text"
      },
      "source": [
        "**Criando Dicionários com Chaves Inteiras**\n"
      ]
    },
    {
      "cell_type": "code",
      "metadata": {
        "id": "GWiwxXOcqm53",
        "colab_type": "code",
        "colab": {
          "base_uri": "https://localhost:8080/",
          "height": 51
        },
        "outputId": "ceede6ae-ec34-49ae-953a-9b6e41287700"
      },
      "source": [
        "#Criando Dicionários com Chaves Inteiras\n",
        "dicionario = {1: 'IGTI', 2: 'BOOTCAMP', 3: 'IGTI'}\n",
        "print(\"Dicionários com Chaves Inteiras: \")\n",
        "print(dicionario)"
      ],
      "execution_count": null,
      "outputs": [
        {
          "output_type": "stream",
          "text": [
            "Dicionários com Chaves Inteiras: \n",
            "{1: 'IGTI', 2: 'BOOTCAMP', 3: 'IGTI'}\n"
          ],
          "name": "stdout"
        }
      ]
    },
    {
      "cell_type": "markdown",
      "metadata": {
        "id": "aDIVT89ErACV",
        "colab_type": "text"
      },
      "source": [
        "**Criando dicionário com vários tipos de chaves e valores**"
      ]
    },
    {
      "cell_type": "code",
      "metadata": {
        "id": "5jgHbS5UrIMR",
        "colab_type": "code",
        "colab": {
          "base_uri": "https://localhost:8080/",
          "height": 51
        },
        "outputId": "bd0c126d-2d99-471f-c0f8-66a0ec42d7ff"
      },
      "source": [
        "#Criando dicionário com vários tipos de chaves e valores\n",
        "dicionario = {'escola': 'IGTI', 1: [1, 2, 3, 4]}\n",
        "print(\"Dicionário com vários tipos de chaves e valores\")\n",
        "print(dicionario)"
      ],
      "execution_count": null,
      "outputs": [
        {
          "output_type": "stream",
          "text": [
            "Dicionário com vários tipos de chaves e valores\n",
            "{'escola': 'IGTI', 1: [1, 2, 3, 4]}\n"
          ],
          "name": "stdout"
        }
      ]
    },
    {
      "cell_type": "markdown",
      "metadata": {
        "id": "yjPqtLPwr4rQ",
        "colab_type": "text"
      },
      "source": [
        "**Criando Dicionários com o dict()**"
      ]
    },
    {
      "cell_type": "code",
      "metadata": {
        "id": "_z1KdsBnsBL6",
        "colab_type": "code",
        "colab": {
          "base_uri": "https://localhost:8080/",
          "height": 51
        },
        "outputId": "0f57b3fa-4772-486e-963a-630ec41cea35"
      },
      "source": [
        "#Criando Dicionários com o dict()\n",
        "dicionario = dict({1: 'IGTI', 2: 'BOOTCAMP', 3: 'IGTI'})\n",
        "print(\"Criando Dicionários com o dict(): \")\n",
        "print(dicionario)"
      ],
      "execution_count": null,
      "outputs": [
        {
          "output_type": "stream",
          "text": [
            "Criando Dicionários com o dict(): \n",
            "{1: 'IGTI', 2: 'BOOTCAMP', 3: 'IGTI'}\n"
          ],
          "name": "stdout"
        }
      ]
    },
    {
      "cell_type": "markdown",
      "metadata": {
        "id": "nfHF1g9otpKv",
        "colab_type": "text"
      },
      "source": [
        "**Criando Dicionário com o Estilo (chave, valor)**"
      ]
    },
    {
      "cell_type": "code",
      "metadata": {
        "id": "vfRBQUJJt3aJ",
        "colab_type": "code",
        "colab": {
          "base_uri": "https://localhost:8080/",
          "height": 51
        },
        "outputId": "9c61c905-cd68-4ba6-940a-898d26363e8a"
      },
      "source": [
        "#Criando o estilo\n",
        "dicionario = dict([(1, 'IGTI'),(2, 'BOOTCAMP')])\n",
        "print(\"Criando dicionario com 'par' de daods: \" )\n",
        "print(dicionario)\n"
      ],
      "execution_count": null,
      "outputs": [
        {
          "output_type": "stream",
          "text": [
            "Criando dicionario com 'par' de daods: \n",
            "{1: 'IGTI', 2: 'BOOTCAMP'}\n"
          ],
          "name": "stdout"
        }
      ]
    },
    {
      "cell_type": "markdown",
      "metadata": {
        "id": "5kxgfrStumso",
        "colab_type": "text"
      },
      "source": [
        "**Adicionando um Elemento a um Dicionário**\n"
      ]
    },
    {
      "cell_type": "code",
      "metadata": {
        "id": "PVoy1YqtuqP_",
        "colab_type": "code",
        "colab": {
          "base_uri": "https://localhost:8080/",
          "height": 51
        },
        "outputId": "d80cebbf-4ab6-4017-aad6-cdf59ee699ab"
      },
      "source": [
        "#Criando um dicionario vazio\n",
        "dicionario = {}\n",
        "print(\"Dicionário Vazio: \")\n",
        "print(dicionario)\n"
      ],
      "execution_count": null,
      "outputs": [
        {
          "output_type": "stream",
          "text": [
            "Dicionário Vazio: \n",
            "{}\n"
          ],
          "name": "stdout"
        }
      ]
    },
    {
      "cell_type": "markdown",
      "metadata": {
        "id": "nwpkfXdAvda1",
        "colab_type": "text"
      },
      "source": [
        "**tuple() , lista[], dict{}, string(), set{}**"
      ]
    },
    {
      "cell_type": "markdown",
      "metadata": {
        "id": "Xe8rPjmRwC3i",
        "colab_type": "text"
      },
      "source": [
        "**Adicionando um elemento de cada vez**"
      ]
    },
    {
      "cell_type": "code",
      "metadata": {
        "id": "PmUDwWx_wHR_",
        "colab_type": "code",
        "colab": {
          "base_uri": "https://localhost:8080/",
          "height": 51
        },
        "outputId": "865d4da4-c72d-4d55-fd80-21c23e44d252"
      },
      "source": [
        "#Adiconando elemento\n",
        "dicionario[0] = 'IGTI'\n",
        "dicionario[2] = 'BOOTCAMP'\n",
        "dicionario[3] = 1\n",
        "print(\"Adiconando 3 elementos a um dicionário: \")\n",
        "print(dicionario)\n"
      ],
      "execution_count": null,
      "outputs": [
        {
          "output_type": "stream",
          "text": [
            "Adiconando 3 elementos a um dicionário: \n",
            "{0: 'IGTI', 2: 'BOOTCAMP', 3: 1}\n"
          ],
          "name": "stdout"
        }
      ]
    },
    {
      "cell_type": "markdown",
      "metadata": {
        "id": "oHDKb3qvwruE",
        "colab_type": "text"
      },
      "source": [
        "**Realizando a atualização de um elemento em um dicionário**"
      ]
    },
    {
      "cell_type": "code",
      "metadata": {
        "id": "D_Q4GJfXvd2K",
        "colab_type": "code",
        "colab": {
          "base_uri": "https://localhost:8080/",
          "height": 51
        },
        "outputId": "a95af3ff-7ce5-408a-f657-ae01c1532e1a"
      },
      "source": [
        "#Update\n",
        "dicionario[2] = 'MBA'\n",
        "print(\"Atualizando o valor com chave [2] no dicionario: \")\n",
        "print(dicionario)\n"
      ],
      "execution_count": null,
      "outputs": [
        {
          "output_type": "stream",
          "text": [
            "Atualizando o valor com chave [2] no dicionario: \n",
            "{0: 'IGTI', 2: 'MBA', 3: 1}\n"
          ],
          "name": "stdout"
        }
      ]
    },
    {
      "cell_type": "markdown",
      "metadata": {
        "id": "_AYZxAEryBeS",
        "colab_type": "text"
      },
      "source": [
        "**Acessando Elementos em um Dicionário**"
      ]
    },
    {
      "cell_type": "code",
      "metadata": {
        "id": "MINDa9hnyGhv",
        "colab_type": "code",
        "colab": {
          "base_uri": "https://localhost:8080/",
          "height": 51
        },
        "outputId": "9bba0de4-93c4-46b7-812f-a3a9525be7f0"
      },
      "source": [
        "#Criando dicionário\n",
        "dicionario = {'a': 'Azul', 'v': 'Verde', 'r': 'Rosa'}\n",
        "\n",
        "#Acessando um elemento através da chave\n",
        "print(\"Acessando um elemento através de chave: \")\n",
        "print(dicionario['a'])\n"
      ],
      "execution_count": null,
      "outputs": [
        {
          "output_type": "stream",
          "text": [
            "Acessando um elemento através de chave: \n",
            "Azul\n"
          ],
          "name": "stdout"
        }
      ]
    },
    {
      "cell_type": "markdown",
      "metadata": {
        "id": "der2Gl88zH_-",
        "colab_type": "text"
      },
      "source": [
        "**Acessando um elemento através do método get()**\n"
      ]
    },
    {
      "cell_type": "code",
      "metadata": {
        "id": "YY1XGk3LzS59",
        "colab_type": "code",
        "colab": {
          "base_uri": "https://localhost:8080/",
          "height": 51
        },
        "outputId": "607236a7-836f-4ab7-888b-06486a764e9c"
      },
      "source": [
        "##Acessando via get()\n",
        "print(\"Acessando um elemento através do get: \")\n",
        "print(dicionario.get('v'))\n"
      ],
      "execution_count": null,
      "outputs": [
        {
          "output_type": "stream",
          "text": [
            "Acessando um elemento através do get: \n",
            "Verde\n"
          ],
          "name": "stdout"
        }
      ]
    },
    {
      "cell_type": "markdown",
      "metadata": {
        "id": "Qu7qGoYGz0JL",
        "colab_type": "text"
      },
      "source": [
        "**Removendo um elemento de um dicionário**"
      ]
    },
    {
      "cell_type": "code",
      "metadata": {
        "id": "hHmwn_jXz5Wk",
        "colab_type": "code",
        "colab": {
          "base_uri": "https://localhost:8080/",
          "height": 51
        },
        "outputId": "ac72fa62-8f75-4293-af94-c0053e23c533"
      },
      "source": [
        "#Initial Dictionary\n",
        "dicionario = {1: 'IGTI', 2: 'BOOTCAMP', 3: 'MBA',\n",
        "            'brasil': {'v': 'verde', 'a': 'Azul', 'am': 'Amarelo'},\n",
        "            'minas': {'vm': 'Vermelha', 'b': 'Branca'} }\n",
        "print(\"Dicionário inicial\")\n",
        "print(dicionario)\n",
        "            \n"
      ],
      "execution_count": null,
      "outputs": [
        {
          "output_type": "stream",
          "text": [
            "Dicionário inicial\n",
            "{1: 'IGTI', 2: 'BOOTCAMP', 3: 'MBA', 'brasil': {'v': 'verde', 'a': 'Azul', 'am': 'Amarelo'}, 'minas': {'vm': 'Vermelha', 'b': 'Branca'}}\n"
          ],
          "name": "stdout"
        }
      ]
    },
    {
      "cell_type": "markdown",
      "metadata": {
        "id": "ZXLo7Tnm3YOD",
        "colab_type": "text"
      },
      "source": [
        "**Deletando um valor pela chave**"
      ]
    },
    {
      "cell_type": "code",
      "metadata": {
        "id": "CqUYjIbw3gPz",
        "colab_type": "code",
        "colab": {
          "base_uri": "https://localhost:8080/",
          "height": 51
        },
        "outputId": "00609b77-788a-4db6-ee27-005488b58ba7"
      },
      "source": [
        "#Deletando\n",
        "del dicionario[3]\n",
        "print(\"Deletando um elemento via chave\")\n",
        "print(dicionario)\n"
      ],
      "execution_count": null,
      "outputs": [
        {
          "output_type": "stream",
          "text": [
            "Deletando um elemento via chave\n",
            "{1: 'IGTI', 2: 'BOOTCAMP', 'brasil': {'v': 'verde', 'a': 'Azul', 'am': 'Amarelo'}, 'minas': {'vm': 'Vermelha', 'b': 'Branca'}}\n"
          ],
          "name": "stdout"
        }
      ]
    },
    {
      "cell_type": "markdown",
      "metadata": {
        "id": "PMlzeMLH3zCF",
        "colab_type": "text"
      },
      "source": [
        "**Deletando via pop()**\n"
      ]
    },
    {
      "cell_type": "code",
      "metadata": {
        "id": "MCZR5t7b32kJ",
        "colab_type": "code",
        "colab": {
          "base_uri": "https://localhost:8080/",
          "height": 51
        },
        "outputId": "06fc6a15-04d7-4dca-9123-2b32cc844ed8"
      },
      "source": [
        "#pop()\n",
        "dicionario.pop(2)\n",
        "print(\"Eliminando uma chave com pop(): \")\n",
        "print(dicionario)\n"
      ],
      "execution_count": null,
      "outputs": [
        {
          "output_type": "stream",
          "text": [
            "Eliminando uma chave com pop(): \n",
            "{1: 'IGTI', 'brasil': {'v': 'verde', 'a': 'Azul', 'am': 'Amarelo'}, 'minas': {'vm': 'Vermelha', 'b': 'Branca'}}\n"
          ],
          "name": "stdout"
        }
      ]
    },
    {
      "cell_type": "markdown",
      "metadata": {
        "id": "kEy0AUDS4Pms",
        "colab_type": "text"
      },
      "source": [
        "**Deletando item arbitário com o popitem()**"
      ]
    },
    {
      "cell_type": "code",
      "metadata": {
        "id": "RBFv4oR54Uic",
        "colab_type": "code",
        "colab": {
          "base_uri": "https://localhost:8080/",
          "height": 51
        },
        "outputId": "38994769-503f-41ed-9118-87c69abd3d1e"
      },
      "source": [
        "#popitem()\n",
        "dicionario.popitem()\n",
        "print(\"Deletando um valor arbitário: \")\n",
        "print(dicionario)\n"
      ],
      "execution_count": null,
      "outputs": [
        {
          "output_type": "stream",
          "text": [
            "Deletando um valor arbitário: \n",
            "{1: 'IGTI', 'brasil': {'v': 'verde', 'a': 'Azul', 'am': 'Amarelo'}}\n"
          ],
          "name": "stdout"
        }
      ]
    },
    {
      "cell_type": "markdown",
      "metadata": {
        "id": "CcB5eFxl4q6_",
        "colab_type": "text"
      },
      "source": [
        "**Deletando um dicionário interio com clear()**"
      ]
    },
    {
      "cell_type": "code",
      "metadata": {
        "id": "PxNy3FLm4umY",
        "colab_type": "code",
        "colab": {
          "base_uri": "https://localhost:8080/",
          "height": 51
        },
        "outputId": "672cf7d6-7a08-46a4-efb7-9f6206e7ff78"
      },
      "source": [
        "#clear\n",
        "dicionario.clear()\n",
        "print(\"Deletando todo o dicionário: \")\n",
        "print(dicionario)\n",
        "\n"
      ],
      "execution_count": null,
      "outputs": [
        {
          "output_type": "stream",
          "text": [
            "Deletando todo o dicionário: \n",
            "{}\n"
          ],
          "name": "stdout"
        }
      ]
    },
    {
      "cell_type": "markdown",
      "metadata": {
        "id": "8F2gtcx6ai0E",
        "colab_type": "text"
      },
      "source": [
        ""
      ]
    }
  ]
}