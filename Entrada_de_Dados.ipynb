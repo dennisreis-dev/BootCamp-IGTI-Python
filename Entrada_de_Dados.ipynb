{
  "nbformat": 4,
  "nbformat_minor": 0,
  "metadata": {
    "colab": {
      "name": "Entrada de Dados.ipynb",
      "provenance": [],
      "authorship_tag": "ABX9TyNTLtOjsFIOQgq+YcdLQP/C",
      "include_colab_link": true
    },
    "kernelspec": {
      "name": "python3",
      "display_name": "Python 3"
    }
  },
  "cells": [
    {
      "cell_type": "markdown",
      "metadata": {
        "id": "view-in-github",
        "colab_type": "text"
      },
      "source": [
        "<a href=\"https://colab.research.google.com/github/dennisreis-dev/IGTI-Python/blob/master/Entrada_de_Dados.ipynb\" target=\"_parent\"><img src=\"https://colab.research.google.com/assets/colab-badge.svg\" alt=\"Open In Colab\"/></a>"
      ]
    },
    {
      "cell_type": "markdown",
      "metadata": {
        "id": "CCyV570G5r4Q",
        "colab_type": "text"
      },
      "source": [
        "**Comandos de Entrada de Dados**"
      ]
    },
    {
      "cell_type": "code",
      "metadata": {
        "id": "ZLpdlPjd5n8v",
        "colab_type": "code",
        "colab": {
          "base_uri": "https://localhost:8080/",
          "height": 51
        },
        "outputId": "01b81531-dc62-42f0-87ab-60498426ae00"
      },
      "source": [
        "nome = input (\"Entre com o seu nome: \")\n",
        "print(\"Meu Nome é: \", nome)\n"
      ],
      "execution_count": 4,
      "outputs": [
        {
          "output_type": "stream",
          "text": [
            "Entre com o seu nome: Timão\n",
            "Meu Nome é:  Timão\n"
          ],
          "name": "stdout"
        }
      ]
    },
    {
      "cell_type": "markdown",
      "metadata": {
        "id": "1fBNchbY6S2S",
        "colab_type": "text"
      },
      "source": [
        "**Tipos de dados armazenado**"
      ]
    },
    {
      "cell_type": "code",
      "metadata": {
        "id": "yCtiQVNo9bul",
        "colab_type": "code",
        "colab": {
          "base_uri": "https://localhost:8080/",
          "height": 34
        },
        "outputId": "aa0b164b-3209-4b9f-c969-bdf827a84b5e"
      },
      "source": [
        "#Tipo de dados\n",
        "type(nome)"
      ],
      "execution_count": 5,
      "outputs": [
        {
          "output_type": "execute_result",
          "data": {
            "text/plain": [
              "str"
            ]
          },
          "metadata": {
            "tags": []
          },
          "execution_count": 5
        }
      ]
    },
    {
      "cell_type": "code",
      "metadata": {
        "id": "RZJ-FGRK-HKG",
        "colab_type": "code",
        "colab": {
          "base_uri": "https://localhost:8080/",
          "height": 51
        },
        "outputId": "5cdbfff3-5ff6-4597-b596-e0c957d04c79"
      },
      "source": [
        "idade = input(\"Entre com a sua idade: \")\n",
        "print(\"Sua idade é: \", idade)"
      ],
      "execution_count": 6,
      "outputs": [
        {
          "output_type": "stream",
          "text": [
            "Entre com a sua idade: 110\n",
            "Sua idade é:  110\n"
          ],
          "name": "stdout"
        }
      ]
    },
    {
      "cell_type": "code",
      "metadata": {
        "id": "FUImuINz_8ev",
        "colab_type": "code",
        "colab": {
          "base_uri": "https://localhost:8080/",
          "height": 34
        },
        "outputId": "6d54a528-a14f-42c2-f8fc-031107cfd069"
      },
      "source": [
        "type(idade)"
      ],
      "execution_count": 7,
      "outputs": [
        {
          "output_type": "execute_result",
          "data": {
            "text/plain": [
              "str"
            ]
          },
          "metadata": {
            "tags": []
          },
          "execution_count": 7
        }
      ]
    },
    {
      "cell_type": "markdown",
      "metadata": {
        "id": "wOhj3-QxAR-o",
        "colab_type": "text"
      },
      "source": [
        "**Formatando as saídas**"
      ]
    },
    {
      "cell_type": "code",
      "metadata": {
        "id": "9BLH5agRAWqZ",
        "colab_type": "code",
        "colab": {
          "base_uri": "https://localhost:8080/",
          "height": 68
        },
        "outputId": "d7b9e765-da83-47ec-b3e0-f452b5b807e7"
      },
      "source": [
        "#Realizando a entrada de dados\n",
        "base = float(input(\"Entre com um valor para a base: \"))\n",
        "expoente = float(input(\"Entre com um valor para ser o expoente: \"))\n",
        "resultado = base**expoente\n",
        "print(resultado)"
      ],
      "execution_count": 12,
      "outputs": [
        {
          "output_type": "stream",
          "text": [
            "Entre com um valor para a base: 10\n",
            "Entre com um valor para ser o expoente: 2\n",
            "100.0\n"
          ],
          "name": "stdout"
        }
      ]
    },
    {
      "cell_type": "code",
      "metadata": {
        "id": "2NOfN6XLBPYH",
        "colab_type": "code",
        "colab": {
          "base_uri": "https://localhost:8080/",
          "height": 34
        },
        "outputId": "ba8d0a48-7794-4c86-b917-c6f6c1d4814c"
      },
      "source": [
        "print(str(base)+ \"^\"+str(expoente), \"=\",resultado)\n"
      ],
      "execution_count": 10,
      "outputs": [
        {
          "output_type": "stream",
          "text": [
            "10.0^2.0 = 100.0\n"
          ],
          "name": "stdout"
        }
      ]
    },
    {
      "cell_type": "code",
      "metadata": {
        "id": "dMPOh6TPBoBA",
        "colab_type": "code",
        "colab": {
          "base_uri": "https://localhost:8080/",
          "height": 34
        },
        "outputId": "b0ee147d-73b2-472c-ccd6-0973354db637"
      },
      "source": [
        "print(\"%1.2f ^%1.2f = %1.4f\" %(base, expoente, resultado))"
      ],
      "execution_count": 11,
      "outputs": [
        {
          "output_type": "stream",
          "text": [
            "10.00 ^2.00 = 100.0000\n"
          ],
          "name": "stdout"
        }
      ]
    },
    {
      "cell_type": "code",
      "metadata": {
        "id": "Po0A3x2sDa1y",
        "colab_type": "code",
        "colab": {
          "base_uri": "https://localhost:8080/",
          "height": 34
        },
        "outputId": "102655c1-323a-43e9-87a0-801f3a78846d"
      },
      "source": [
        "print(\"%2d, %2x, %3o, %2.2f, %2.2e \" %(100, 100, 100, 11.1245,11.24567))"
      ],
      "execution_count": 13,
      "outputs": [
        {
          "output_type": "stream",
          "text": [
            "100, 64, 144, 11.12, 1.12e+01 \n"
          ],
          "name": "stdout"
        }
      ]
    }
  ]
}