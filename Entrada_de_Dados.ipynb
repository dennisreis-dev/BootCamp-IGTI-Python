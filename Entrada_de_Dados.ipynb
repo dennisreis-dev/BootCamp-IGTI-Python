{
  "nbformat": 4,
  "nbformat_minor": 0,
  "metadata": {
    "colab": {
      "name": "Entrada de Dados.ipynb",
      "provenance": [],
      "authorship_tag": "ABX9TyOofvU1LOF6J8w5FsT1sm+G"
    },
    "kernelspec": {
      "name": "python3",
      "display_name": "Python 3"
    }
  },
  "cells": [
    {
      "cell_type": "markdown",
      "metadata": {
        "id": "CCyV570G5r4Q",
        "colab_type": "text"
      },
      "source": [
        "**Comandos de Entrada de Dados**"
      ]
    },
    {
      "cell_type": "code",
      "metadata": {
        "id": "ZLpdlPjd5n8v",
        "colab_type": "code",
        "colab": {
          "base_uri": "https://localhost:8080/",
          "height": 51
        },
        "outputId": "b82928f6-a9d5-4a9e-fe16-cfcd82a1929a"
      },
      "source": [
        "nome = input (\"Entre com o seu nome: \")\n",
        "print(\"Meu Nome é: \", nome)\n"
      ],
      "execution_count": null,
      "outputs": [
        {
          "output_type": "stream",
          "text": [
            "Entre com o seu nome: Dennis Porto Reis\n",
            "Meu Nome é:  Dennis Porto Reis\n"
          ],
          "name": "stdout"
        }
      ]
    },
    {
      "cell_type": "markdown",
      "metadata": {
        "id": "1fBNchbY6S2S",
        "colab_type": "text"
      },
      "source": [
        ""
      ]
    }
  ]
}