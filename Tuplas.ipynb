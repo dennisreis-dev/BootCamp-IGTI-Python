{
  "nbformat": 4,
  "nbformat_minor": 0,
  "metadata": {
    "colab": {
      "name": "Tuplas.ipynb",
      "provenance": [],
      "authorship_tag": "ABX9TyMnXuLEUpwpI4XhyLYuPp1w"
    },
    "kernelspec": {
      "name": "python3",
      "display_name": "Python 3"
    }
  },
  "cells": [
    {
      "cell_type": "markdown",
      "metadata": {
        "id": "3tU6nmoh_Iny",
        "colab_type": "text"
      },
      "source": [
        "**OBS: A diferencia entre as Tuplas e as Listas é que as Tup´las, são imutáveis ou seja não conseguimos alterar. E os valores ficam dentro de tuplas() e não em lista[], como as listas**"
      ]
    },
    {
      "cell_type": "markdown",
      "metadata": {
        "id": "NDKcM81ZApTY",
        "colab_type": "text"
      },
      "source": [
        "**TUPLAS - TUPLE**"
      ]
    },
    {
      "cell_type": "markdown",
      "metadata": {
        "id": "gyK4qDDwDtox",
        "colab_type": "text"
      },
      "source": [
        "**Criando uma tupla vazia**"
      ]
    },
    {
      "cell_type": "code",
      "metadata": {
        "id": "ydeKVTO19eKT",
        "colab_type": "code",
        "colab": {
          "base_uri": "https://localhost:8080/",
          "height": 68
        },
        "outputId": "5152b340-a753-4fd6-a205-54d768b81c42"
      },
      "source": [
        "#criando uma tupla vazia\n",
        "tupla_1 = ()\n",
        "print(\"Tupla vazia: \")\n",
        "print(tupla_1)\n",
        "print(type(tupla_1))"
      ],
      "execution_count": null,
      "outputs": [
        {
          "output_type": "stream",
          "text": [
            "Tupla vazia: \n",
            "()\n",
            "<class 'tuple'>\n"
          ],
          "name": "stdout"
        }
      ]
    },
    {
      "cell_type": "markdown",
      "metadata": {
        "id": "K2my0YaYDynC",
        "colab_type": "text"
      },
      "source": [
        "**Criando uma tupla com string**"
      ]
    },
    {
      "cell_type": "code",
      "metadata": {
        "id": "ztQtcxGKAnk4",
        "colab_type": "code",
        "colab": {
          "base_uri": "https://localhost:8080/",
          "height": 51
        },
        "outputId": "fcb37cff-630c-41dd-e90a-c4549f72fd0a"
      },
      "source": [
        "#criando uma tupla com string\n",
        "tupla_1 = ('IGTI', 'Python')\n",
        "print(\"Tupla utilizando string: \")\n",
        "print(tupla_1)"
      ],
      "execution_count": null,
      "outputs": [
        {
          "output_type": "stream",
          "text": [
            "Tupla utilizando string: \n",
            "('IGTI', 'Python')\n"
          ],
          "name": "stdout"
        }
      ]
    },
    {
      "cell_type": "markdown",
      "metadata": {
        "id": "yI6BDDg9Dn3M",
        "colab_type": "text"
      },
      "source": [
        "**Criando uma tupla através de uma lista**"
      ]
    },
    {
      "cell_type": "code",
      "metadata": {
        "id": "YUdgjniMBPBM",
        "colab_type": "code",
        "colab": {
          "base_uri": "https://localhost:8080/",
          "height": 85
        },
        "outputId": "9d2d816f-8c64-4c46-f59c-6ab9350cfb9c"
      },
      "source": [
        "#criando uma tupla através de uma lista\n",
        "lista_1 = [1, 2, 4, 5, 6]\n",
        "print(type(lista_1))\n",
        "print(\"Tupla através de uma lista: \")\n",
        "print(tuple(lista_1))\n",
        "print(type(tuple(lista_1)))"
      ],
      "execution_count": null,
      "outputs": [
        {
          "output_type": "stream",
          "text": [
            "<class 'list'>\n",
            "Tupla através de uma lista: \n",
            "(1, 2, 4, 5, 6)\n",
            "<class 'tuple'>\n"
          ],
          "name": "stdout"
        }
      ]
    },
    {
      "cell_type": "markdown",
      "metadata": {
        "id": "Rt-BxWftD6e7",
        "colab_type": "text"
      },
      "source": [
        "**Criando uma tupla através da palavra tuple()**"
      ]
    },
    {
      "cell_type": "code",
      "metadata": {
        "id": "zzE_p_IEBwD9",
        "colab_type": "code",
        "colab": {
          "base_uri": "https://localhost:8080/",
          "height": 51
        },
        "outputId": "0c0b0466-ce10-4b33-8957-13e8471f3a0e"
      },
      "source": [
        "#criando uma tupla através da palavra tuple()\n",
        "tupla_1 = tuple('IGTI')\n",
        "print(\"Tupla criada através de uma função tuple(): \")\n",
        "print(tupla_1)"
      ],
      "execution_count": null,
      "outputs": [
        {
          "output_type": "stream",
          "text": [
            "Tupla criada através de uma função tuple(): \n",
            "('I', 'G', 'T', 'I')\n"
          ],
          "name": "stdout"
        }
      ]
    },
    {
      "cell_type": "markdown",
      "metadata": {
        "id": "zoqasZzhEAoF",
        "colab_type": "text"
      },
      "source": [
        "**Criando Tuplas Aninhadas**"
      ]
    },
    {
      "cell_type": "code",
      "metadata": {
        "id": "QYacIxQkD996",
        "colab_type": "code",
        "colab": {
          "base_uri": "https://localhost:8080/",
          "height": 51
        },
        "outputId": "e0bc15b0-ccc9-4ba4-e91e-884af4682dc2"
      },
      "source": [
        "#criando tuplas aninhadas\n",
        "tupla_1 = (0, 1, 2, 3)\n",
        "tupla_2 = ('python', 'IGTI')\n",
        "tupla_3 = (tupla_1, tupla_2)\n",
        "print (\"Tupla Aninhadas: \")\n",
        "print(tupla_3)\n"
      ],
      "execution_count": null,
      "outputs": [
        {
          "output_type": "stream",
          "text": [
            "Tupla Aninhadas: \n",
            "((0, 1, 2, 3), ('python', 'IGTI'))\n"
          ],
          "name": "stdout"
        }
      ]
    },
    {
      "cell_type": "markdown",
      "metadata": {
        "id": "Afk14yprEoHW",
        "colab_type": "text"
      },
      "source": [
        "**Acessando Elementos em uma Tupla**\n"
      ]
    },
    {
      "cell_type": "markdown",
      "metadata": {
        "id": "WGBaqHvAF90a",
        "colab_type": "text"
      },
      "source": [
        "**Criando uma tupla através da função**"
      ]
    },
    {
      "cell_type": "code",
      "metadata": {
        "id": "WwwKsBvsEmbN",
        "colab_type": "code",
        "colab": {
          "base_uri": "https://localhost:8080/",
          "height": 119
        },
        "outputId": "9e37b5fc-4568-4b2e-d0e6-36ea0f63db53"
      },
      "source": [
        "#criando a tupla através da função\n",
        "tupla_1 = tuple([1, 2, 3, 4, 5])\n",
        "\n",
        "#Acessando o elemmento através do indice\n",
        "print(\"Primeiro elemento da tupla\")\n",
        "print(tupla_1[0])\n",
        "\n",
        "#Acessando o último elemento da tupla\n",
        "print(\"Último elemento da tupla: \")\n",
        "print(tupla_1[-1])\n",
        "\n",
        "#Acessanto o penultimo elemento da tupla\n",
        "print(\"Encontrando o penúktimo elemento da tupla: \")\n",
        "print(tupla_1[-2])\n"
      ],
      "execution_count": null,
      "outputs": [
        {
          "output_type": "stream",
          "text": [
            "Primeiro elemento da tupla\n",
            "1\n",
            "Último elemento da tupla: \n",
            "5\n",
            "Encontrando o penúktimo elemento da tupla: \n",
            "4\n"
          ],
          "name": "stdout"
        }
      ]
    },
    {
      "cell_type": "markdown",
      "metadata": {
        "id": "inEU_tHUJP2y",
        "colab_type": "text"
      },
      "source": [
        "**Deletando e Atualizando Elementos de uma Tupla**"
      ]
    },
    {
      "cell_type": "code",
      "metadata": {
        "id": "2JvCGV_gJPCO",
        "colab_type": "code",
        "colab": {
          "base_uri": "https://localhost:8080/",
          "height": 51
        },
        "outputId": "8242d056-f3ec-4480-9464-8a6903930262"
      },
      "source": [
        "#definindo uma tupla\n",
        "tupla_1 = tuple([1, 2, 3, 4, 5])\n",
        "print(\"Tupla Inicial: \")\n",
        "print(tupla_1)"
      ],
      "execution_count": null,
      "outputs": [
        {
          "output_type": "stream",
          "text": [
            "Tupla Inicial: \n",
            "(1, 2, 3, 4, 5)\n"
          ],
          "name": "stdout"
        }
      ]
    },
    {
      "cell_type": "code",
      "metadata": {
        "id": "-kT9Vi8qKxAz",
        "colab_type": "code",
        "colab": {
          "base_uri": "https://localhost:8080/",
          "height": 199
        },
        "outputId": "d9bbffe6-016a-4c10-9a72-a29f23a40a59"
      },
      "source": [
        "#atualizando um valor da tupla\n",
        "tupla_1[0] = -1\n",
        "print(tupla_1)"
      ],
      "execution_count": null,
      "outputs": [
        {
          "output_type": "error",
          "ename": "TypeError",
          "evalue": "ignored",
          "traceback": [
            "\u001b[0;31m---------------------------------------------------------------------------\u001b[0m",
            "\u001b[0;31mTypeError\u001b[0m                                 Traceback (most recent call last)",
            "\u001b[0;32m<ipython-input-13-815eac7a992c>\u001b[0m in \u001b[0;36m<module>\u001b[0;34m()\u001b[0m\n\u001b[1;32m      1\u001b[0m \u001b[0;31m#atualizando um valor da tupla\u001b[0m\u001b[0;34m\u001b[0m\u001b[0;34m\u001b[0m\u001b[0;34m\u001b[0m\u001b[0m\n\u001b[0;32m----> 2\u001b[0;31m \u001b[0mtupla_1\u001b[0m\u001b[0;34m[\u001b[0m\u001b[0;36m0\u001b[0m\u001b[0;34m]\u001b[0m \u001b[0;34m=\u001b[0m \u001b[0;34m-\u001b[0m\u001b[0;36m1\u001b[0m\u001b[0;34m\u001b[0m\u001b[0;34m\u001b[0m\u001b[0m\n\u001b[0m\u001b[1;32m      3\u001b[0m \u001b[0mprint\u001b[0m\u001b[0;34m(\u001b[0m\u001b[0mtupla_1\u001b[0m\u001b[0;34m)\u001b[0m\u001b[0;34m\u001b[0m\u001b[0;34m\u001b[0m\u001b[0m\n",
            "\u001b[0;31mTypeError\u001b[0m: 'tuple' object does not support item assignment"
          ]
        }
      ]
    },
    {
      "cell_type": "code",
      "metadata": {
        "id": "VWiOWWnvLMj5",
        "colab_type": "code",
        "colab": {
          "base_uri": "https://localhost:8080/",
          "height": 199
        },
        "outputId": "c07a62a4-17c5-4bbd-dbe6-c45146bffedf"
      },
      "source": [
        "#deletando um elemento da tupla\n",
        "del tupla_1[2]\n",
        "print(tupla_1)\n"
      ],
      "execution_count": null,
      "outputs": [
        {
          "output_type": "error",
          "ename": "TypeError",
          "evalue": "ignored",
          "traceback": [
            "\u001b[0;31m---------------------------------------------------------------------------\u001b[0m",
            "\u001b[0;31mTypeError\u001b[0m                                 Traceback (most recent call last)",
            "\u001b[0;32m<ipython-input-14-67613bf76f23>\u001b[0m in \u001b[0;36m<module>\u001b[0;34m()\u001b[0m\n\u001b[1;32m      1\u001b[0m \u001b[0;31m#deletando um elemento da tupla\u001b[0m\u001b[0;34m\u001b[0m\u001b[0;34m\u001b[0m\u001b[0;34m\u001b[0m\u001b[0m\n\u001b[0;32m----> 2\u001b[0;31m \u001b[0;32mdel\u001b[0m \u001b[0mtupla_1\u001b[0m\u001b[0;34m[\u001b[0m\u001b[0;36m2\u001b[0m\u001b[0;34m]\u001b[0m\u001b[0;34m\u001b[0m\u001b[0;34m\u001b[0m\u001b[0m\n\u001b[0m\u001b[1;32m      3\u001b[0m \u001b[0mprint\u001b[0m\u001b[0;34m(\u001b[0m\u001b[0mtupla_1\u001b[0m\u001b[0;34m)\u001b[0m\u001b[0;34m\u001b[0m\u001b[0;34m\u001b[0m\u001b[0m\n",
            "\u001b[0;31mTypeError\u001b[0m: 'tuple' object doesn't support item deletion"
          ]
        }
      ]
    },
    {
      "cell_type": "markdown",
      "metadata": {
        "id": "n61ULj9kLZ7U",
        "colab_type": "text"
      },
      "source": [
        "**OBS: COMO FOI DITO NO INICIO AS TUPLAS SÃO IMUTÁVEIS E NÃO PODEM SER ATUALIZADAS E NEM DELETADAS**"
      ]
    }
  ]
}