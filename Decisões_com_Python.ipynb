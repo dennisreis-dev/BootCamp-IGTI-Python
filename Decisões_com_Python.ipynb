{
  "nbformat": 4,
  "nbformat_minor": 0,
  "metadata": {
    "colab": {
      "name": " Decisões com Python.ipynb",
      "provenance": [],
      "authorship_tag": "ABX9TyPW0qohCARRADDsm8Aubwz/"
    },
    "kernelspec": {
      "name": "python3",
      "display_name": "Python 3"
    }
  },
  "cells": [
    {
      "cell_type": "markdown",
      "metadata": {
        "id": "3jeaTYVKXeEw"
      },
      "source": [
        "**Capítulo 2 - Decisões com Python**"
      ]
    },
    {
      "cell_type": "code",
      "metadata": {
        "id": "KjPsPTvYXbJN",
        "outputId": "769ea549-b508-4c0d-cc3f-59f6deeb8d00",
        "colab": {
          "base_uri": "https://localhost:8080/",
          "height": 85
        }
      },
      "source": [
        " #O Condicional \"if\"\n",
        " #exemplo\n",
        " print(\"Execução antes do if...\")\n",
        " numero = float(input(\"Entre com um número: \"))\n",
        " if numero%2==0:\n",
        "    print(\"Esse é um número par: \")\n",
        "print(\"Execução após o if...\")"
      ],
      "execution_count": null,
      "outputs": [
        {
          "output_type": "stream",
          "text": [
            "Execução antes do if...\n",
            "Entre com um número: 10\n",
            "Esse é um número par: \n",
            "Execução após o if...\n"
          ],
          "name": "stdout"
        }
      ]
    },
    {
      "cell_type": "code",
      "metadata": {
        "id": "8ooq3HfoLkcB",
        "outputId": "daf96865-98a7-453a-8426-034780b7b992",
        "colab": {
          "base_uri": "https://localhost:8080/",
          "height": 85
        }
      },
      "source": [
        "print(\"Execução antes do if... \")\n",
        "numero = float(input(\"Entre com um número par: \"))\n",
        "if numero>0:\n",
        "    print(\"Esse número é positivo.\")\n",
        "print(\"Execução após o if...\")"
      ],
      "execution_count": null,
      "outputs": [
        {
          "output_type": "stream",
          "text": [
            "Execução antes do if... \n",
            "Entre com um número par: 10\n",
            "Esse número é positivo.\n",
            "Execução após o if...\n"
          ],
          "name": "stdout"
        }
      ]
    },
    {
      "cell_type": "code",
      "metadata": {
        "id": "KRTNvWh0bw_Q",
        "outputId": "c3e6865f-eb64-442a-ed87-32dc99cc3724",
        "colab": {
          "base_uri": "https://localhost:8080/",
          "height": 34
        }
      },
      "source": [
        "i = 10\n",
        "if (i > 15):\n",
        "    print(\"10 é maior que 15\")\n",
        "print(\"Continuando o programa...\")\n"
      ],
      "execution_count": null,
      "outputs": [
        {
          "output_type": "stream",
          "text": [
            "Continuando o programa...\n"
          ],
          "name": "stdout"
        }
      ]
    },
    {
      "cell_type": "markdown",
      "metadata": {
        "id": "SPmXtVTec_dp"
      },
      "source": [
        "**O Caso if-else**"
      ]
    },
    {
      "cell_type": "code",
      "metadata": {
        "id": "zboCOGVXdFj_",
        "outputId": "29a442a2-ec00-4ce1-fc65-19fe42eb08ce",
        "colab": {
          "base_uri": "https://localhost:8080/",
          "height": 119
        }
      },
      "source": [
        "#exemplo\n",
        "print(\"Execução antes do if...\\n\")\n",
        "numero = float(input(\"Entre com o número: \"))\n",
        "if numero%2==0:\n",
        "    print(\"Esse número é par.\\n\")\n",
        "else:\n",
        "    print(\"Esse número é impar.\\n\")\n",
        "print(\"Execução após o if...\")"
      ],
      "execution_count": null,
      "outputs": [
        {
          "output_type": "stream",
          "text": [
            "Execução antes do if...\n",
            "\n",
            "Entre com o número: 10\n",
            "Esse número é par.\n",
            "\n",
            "Execução após o if...\n"
          ],
          "name": "stdout"
        }
      ]
    },
    {
      "cell_type": "code",
      "metadata": {
        "id": "AQ5na51DhhZo",
        "outputId": "c44a9b3a-e536-45aa-823c-7a70de943c01",
        "colab": {
          "base_uri": "https://localhost:8080/",
          "height": 68
        }
      },
      "source": [
        "i = 20;\n",
        "if ( i < 15):\n",
        "    print(\"i é menor que 15\")\n",
        "    print(\"Execução do if...\")\n",
        "else:\n",
        "    print(\"i é maior que 15\")\n",
        "    print(\"Execução do else...\")\n",
        "print(\"Continuando o programa..........\")"
      ],
      "execution_count": null,
      "outputs": [
        {
          "output_type": "stream",
          "text": [
            "i é maior que 15\n",
            "Execução do else...\n",
            "Continuando o programa..........\n"
          ],
          "name": "stdout"
        }
      ]
    },
    {
      "cell_type": "markdown",
      "metadata": {
        "id": "8RvebAlYjy6S"
      },
      "source": [
        "**Encontrando o maior valor entre dois números digitados**"
      ]
    },
    {
      "cell_type": "code",
      "metadata": {
        "id": "5WrG0ju0j8G9",
        "outputId": "c0d30116-64d8-4df1-90c4-8714cec0e85b",
        "colab": {
          "base_uri": "https://localhost:8080/",
          "height": 68
        }
      },
      "source": [
        "x = int(input(\"Digite o primeiro número: \"))\n",
        "y = int(input(\"Digite o segundo número: \"))\n",
        "if (x>y):\n",
        "    print(\"O primeiro valor (%2d) é maior que o segundo valor (%2d) \"%(x,y))\n",
        "else:\n",
        "    print(\"O primeiro valor (%2d) é menor que o segundo valor (%2d)\"%(x,y))\n"
      ],
      "execution_count": null,
      "outputs": [
        {
          "output_type": "stream",
          "text": [
            "Digite o primeiro número: 300\n",
            "Digite o segundo número: 200\n",
            "O primeiro valor (300) é maior que o segundo valor (200) \n"
          ],
          "name": "stdout"
        }
      ]
    },
    {
      "cell_type": "markdown",
      "metadata": {
        "id": "8RyfPOIRljVB"
      },
      "source": [
        "**if com condições mais \"elaboradas\"**"
      ]
    },
    {
      "cell_type": "code",
      "metadata": {
        "id": "1CWghpepm5fI",
        "outputId": "4dcc9be0-c0b3-4ed9-b527-4a12970cfa9f",
        "colab": {
          "base_uri": "https://localhost:8080/",
          "height": 51
        }
      },
      "source": [
        "#if com condicional or\n",
        "altura = int(input(\"Entre com a sua altura (em centimetros):\"))\n",
        "if (altura<150) or (altura>180):\n",
        "    print(\"VocÊ não pode brincar\")\n",
        "else:\n",
        "    print(\"Você pode brincar\")"
      ],
      "execution_count": null,
      "outputs": [
        {
          "output_type": "stream",
          "text": [
            "Entre com a sua altura (em centimetros):190\n",
            "VocÊ não pode brincar\n"
          ],
          "name": "stdout"
        }
      ]
    },
    {
      "cell_type": "code",
      "metadata": {
        "id": "gf-FeJF6oNAS",
        "outputId": "f7285cb6-4814-4530-bc1b-5aff177ad169",
        "colab": {
          "base_uri": "https://localhost:8080/",
          "height": 85
        }
      },
      "source": [
        "#adivinhando o resultados da divisão\n",
        "numerador = float(input(\"Entre com um numerador:\"))\n",
        "denominador = float(input(\"Entre com o denominador\"))\n",
        "chute = float(input(\"Entre com o seu chute para o resultado\"))\n",
        "resultado = numerador/denominador\n",
        "maior = abs(resultado)#exibe o valor absoluto do resultado\n",
        "\n",
        "#verifica se o chute é até 1/10 do real\n",
        "if abs((chute-resultado)/maior) <=0.1:\n",
        "    print(\"Seu chute está correto parabéns\")\n",
        "else:\n",
        "    print(\"Que pena, você errou. O valor correta é {}\".format(resultado))"
      ],
      "execution_count": null,
      "outputs": [
        {
          "output_type": "stream",
          "text": [
            "Entre com um numerador:20\n",
            "Entre com o denominador2\n",
            "Entre com o seu chute para o resultado10\n",
            "Seu chute está correto parabéns\n"
          ],
          "name": "stdout"
        }
      ]
    },
    {
      "cell_type": "markdown",
      "metadata": {
        "id": "KQd7wlQfm1tm"
      },
      "source": [
        "**Trabalhando com \"If\" aninhados**"
      ]
    },
    {
      "cell_type": "code",
      "metadata": {
        "id": "YfGEG7oYltVV",
        "outputId": "84948af2-19a6-4458-bff5-fd2a83df8d75",
        "colab": {
          "base_uri": "https://localhost:8080/",
          "height": 68
        }
      },
      "source": [
        "i = 10\n",
        "if (i == 10):\n",
        "    # Primeiro if\n",
        "    if (i <15):\n",
        "        print(\"i é maior que 15\")\n",
        "    # O if aninhado só é executado se  anterior for executado\n",
        "    if(i <12):\n",
        "       print(\"i também é menor que 12\")\n",
        "    else:\n",
        "        print(\"i é maior que 15\")\n",
        "print (\"continua o programa.................\")\n"
      ],
      "execution_count": null,
      "outputs": [
        {
          "output_type": "stream",
          "text": [
            "i é maior que 15\n",
            "i também é menor que 12\n",
            "continua o programa.................\n"
          ],
          "name": "stdout"
        }
      ]
    },
    {
      "cell_type": "code",
      "metadata": {
        "id": "gJVx5CBj3LFm",
        "outputId": "e319e34b-93b1-417a-e186-b7c67bc00d50",
        "colab": {
          "base_uri": "https://localhost:8080/",
          "height": 153
        }
      },
      "source": [
        "x = float(input(\"Entre com um primeiro número: \"))\n",
        "y = float(input(\"Entre com um segundo número: \"))\n",
        "\n",
        "print(\"(1) - Soma os dois números\")\n",
        "print(\"(2) - Subtrai os dois números\")\n",
        "print(\"(3) - Multiplica os dois números\")\n",
        "print(\"(4) - Divide os dois números\")\n",
        "\n",
        "escolha = int(input(\"Escolha uma das opções: \"))\n",
        "\n",
        "print(\"O resultado é: \", end=\"\")\n",
        "\n",
        "if escolha==1:\n",
        "    print(x+y)\n",
        "else:\n",
        "  if(escolha==2):\n",
        "    print(x-y)\n",
        "  else:\n",
        "    if(escolha==3):\n",
        "      print(x*y)\n",
        "    else:\n",
        "       if(escolha==4):\n",
        "          print(x/y)\n",
        "       else:\n",
        "         print(\"Opção inválida\")"
      ],
      "execution_count": null,
      "outputs": [
        {
          "output_type": "stream",
          "text": [
            "Entre com um primeiro número: 50\n",
            "Entre com um segundo número: 10\n",
            "(1) - Soma os dois números\n",
            "(2) - Subtrai os dois números\n",
            "(3) - Multiplica os dois números\n",
            "(4) - Divide os dois números\n",
            "Escolha uma das opções: 3\n",
            "O resultado é: 500.0\n"
          ],
          "name": "stdout"
        }
      ]
    },
    {
      "cell_type": "code",
      "metadata": {
        "id": "w3bopdbC7ZPO",
        "outputId": "a5405a2c-73f4-4242-d388-9e9833bc1564",
        "colab": {
          "base_uri": "https://localhost:8080/",
          "height": 34
        }
      },
      "source": [
        "#Outras condicionais aninhadas\n",
        "x=10\n",
        "y=5\n",
        "if x == y:\n",
        "    print(\"x e y são iguais\")\n",
        "else:\n",
        "  print(\"x é maior que y\")\n"
      ],
      "execution_count": null,
      "outputs": [
        {
          "output_type": "stream",
          "text": [
            "x é maior que y\n"
          ],
          "name": "stdout"
        }
      ]
    },
    {
      "cell_type": "markdown",
      "metadata": {
        "id": "vEyetDuzv2IS"
      },
      "source": [
        "**Trabalhando com if-elif-else**"
      ]
    },
    {
      "cell_type": "code",
      "metadata": {
        "id": "2IJhUtxSv4bY",
        "outputId": "35901652-3439-4fd3-f700-b275262952a4",
        "colab": {
          "base_uri": "https://localhost:8080/",
          "height": 51
        }
      },
      "source": [
        "i = 10\n",
        "\n",
        "if (i == 10):\n",
        "    print (\"i é igual a 10\")\n",
        "elif (i == 15):\n",
        "    print (\"i é igual a 15\")\n",
        "\n",
        "else:\n",
        "    print (\"i não está nas condições\")\n",
        "print (\".................................\")"
      ],
      "execution_count": 6,
      "outputs": [
        {
          "output_type": "stream",
          "text": [
            "i é igual a 10\n",
            ".................................\n"
          ],
          "name": "stdout"
        }
      ]
    },
    {
      "cell_type": "code",
      "metadata": {
        "id": "NWowBlL5x9KS",
        "outputId": "ac98521f-ee4c-4bd5-a976-47b7f7ed6899",
        "colab": {
          "base_uri": "https://localhost:8080/",
          "height": 153
        }
      },
      "source": [
        "x = float(input(\"Entre como primeiro número: \"))\n",
        "y = float(input(\"Entre com o segundo número: \"))\n",
        "\n",
        "print(\"(1) - Soma os dois números\")\n",
        "print(\"(2) - Subtrai os dois números\")\n",
        "print(\"(3) - Multiplica os dois números\")\n",
        "print(\"(4) - Divide os dois números\")\n",
        "\n",
        "escolha=int(input(\"Escolha uma das opções: \"))\n",
        "\n",
        "print(\"O resultado é: \", end=\"\")\n",
        "\n",
        "if escolha==1:\n",
        "    print(x+y)\n",
        "elif (escolha==2):\n",
        "    print(x-y)\n",
        "elif (escolha==3):\n",
        "    print(x*y)\n",
        "elif (escolha==4):\n",
        "    print(x/y)\n",
        "else:\n",
        "    print(\"Opção inválida\")"
      ],
      "execution_count": 9,
      "outputs": [
        {
          "output_type": "stream",
          "text": [
            "Entre como primeiro número: 50\n",
            "Entre com o segundo número: 10\n",
            "(1) - Soma os dois números\n",
            "(2) - Subtrai os dois números\n",
            "(3) - Multiplica os dois números\n",
            "(4) - Divide os dois números\n",
            "Escolha uma das opções: 3\n",
            "O resultado é: 500.0\n"
          ],
          "name": "stdout"
        }
      ]
    },
    {
      "cell_type": "markdown",
      "metadata": {
        "id": "2NYTgslQz3YT"
      },
      "source": [
        "**Encontrando o maior entre 3 números**"
      ]
    },
    {
      "cell_type": "markdown",
      "metadata": {
        "id": "dW3LTvpy2HSS"
      },
      "source": [
        "***Usando o if e o else (forma não muito prática)***"
      ]
    },
    {
      "cell_type": "code",
      "metadata": {
        "id": "i-PkLrDSz9Pn",
        "outputId": "0e6e6a49-3d44-4930-8418-89b231a66324",
        "colab": {
          "base_uri": "https://localhost:8080/",
          "height": 102
        }
      },
      "source": [
        "x = int(input(\"Entre como primeiro número: \"))\n",
        "y = int(input(\"Entre com o segundo número: \"))\n",
        "z = int(input(\"Entre com o terceiro número: \"))\n",
        "\n",
        "if y > x:\n",
        "    if z > y:\n",
        "      print (z, \"é o maior número. \")\n",
        "    else: \n",
        "      print (y, \"é o maior número. \")\n",
        "else:\n",
        "  if z > x:\n",
        "      print(z, \"é o maior número\")\n",
        "  else:\n",
        "      print (x, \"é maior número. \")\n",
        "print (\"----------FIM----------\")"
      ],
      "execution_count": 10,
      "outputs": [
        {
          "output_type": "stream",
          "text": [
            "Entre como primeiro número: 50\n",
            "Entre com o segundo número: 30\n",
            "Entre com o terceiro número: 80\n",
            "80 é o maior número\n",
            "FIM\n"
          ],
          "name": "stdout"
        }
      ]
    },
    {
      "cell_type": "markdown",
      "metadata": {
        "id": "LnNuPgiw2Rd1"
      },
      "source": [
        "***Usando o if (Forma mais inteligente e elegante, para o seu codigo***)"
      ]
    },
    {
      "cell_type": "code",
      "metadata": {
        "id": "XDZKBaF02avy",
        "outputId": "6a258703-3cc1-4a49-e821-6ded3e43352d",
        "colab": {
          "base_uri": "https://localhost:8080/",
          "height": 102
        }
      },
      "source": [
        "x = int(input(\"Entre com o primeiro número: \"))\n",
        "y = int(input(\"Entre com o segundo número: \"))\n",
        "z = int(input(\"Entre com o terceiro número: \"))\n",
        "\n",
        "#Primeiro chute\n",
        "maior_numero = x\n",
        "if y > maior_numero:\n",
        "  #ajusta o primeiro chute\n",
        "  maior_numero = y\n",
        "if z > maior_numero:\n",
        " #Ajusta o segundo número\n",
        "  maior_numero = z\n",
        "print (maior_numero, \"é o maior número. \")\n",
        "print(\"----------FIM----------\")"
      ],
      "execution_count": 12,
      "outputs": [
        {
          "output_type": "stream",
          "text": [
            "Entre com o primeiro número: 3\n",
            "Entre com o segundo número: 2\n",
            "Entre com o terceiro número: 2\n",
            "3 é o maior número. \n",
            "----------FIM----------\n"
          ],
          "name": "stdout"
        }
      ]
    }
  ]
}