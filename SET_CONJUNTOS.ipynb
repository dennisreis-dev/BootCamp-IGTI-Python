{
  "nbformat": 4,
  "nbformat_minor": 0,
  "metadata": {
    "colab": {
      "name": "SET-CONJUNTOS.ipynb",
      "provenance": [],
      "authorship_tag": "ABX9TyOo8Zh1KJmlLB+IiaZZFdNm"
    },
    "kernelspec": {
      "name": "python3",
      "display_name": "Python 3"
    }
  },
  "cells": [
    {
      "cell_type": "markdown",
      "metadata": {
        "id": "ouIxJR0oNDoq",
        "colab_type": "text"
      },
      "source": [
        "**SET OU CONJUNTOS (UNIÃO, INTERSEÇÃO, DIFERENÇA, DIFERENÇA SIMÉTRICA)**"
      ]
    },
    {
      "cell_type": "markdown",
      "metadata": {
        "id": "xhrjSFGoNlAw",
        "colab_type": "text"
      },
      "source": [
        "\n",
        "\n",
        "*   DESORDENADA\n",
        "*   MUTÁVEL\n",
        "*   SEM ELEMENTOS DUPLICADOS\n",
        "\n",
        "\n",
        "\n",
        "\n"
      ]
    },
    {
      "cell_type": "markdown",
      "metadata": {
        "id": "uIjsYJbZkSZd",
        "colab_type": "text"
      },
      "source": [
        "**Criando um conjunto - \"set\" em python**"
      ]
    },
    {
      "cell_type": "code",
      "metadata": {
        "id": "3cGw88DdM8_4",
        "colab_type": "code",
        "colab": {
          "base_uri": "https://localhost:8080/",
          "height": 68
        },
        "outputId": "9a03fb02-96b2-48c2-e076-b1c3a302a251"
      },
      "source": [
        "#criando um conjunto - \"set\" em python\n",
        "conjunto_A = set()\n",
        "print(\"Conjunto vazio\")\n",
        "print(conjunto_A )\n",
        "print(type(conjunto_A))"
      ],
      "execution_count": null,
      "outputs": [
        {
          "output_type": "stream",
          "text": [
            "Conjunto vazio\n",
            "set()\n",
            "<class 'set'>\n"
          ],
          "name": "stdout"
        }
      ]
    },
    {
      "cell_type": "markdown",
      "metadata": {
        "id": "zhy5cdsckXZB",
        "colab_type": "text"
      },
      "source": [
        "**Criando um conjunto via uma string**"
      ]
    },
    {
      "cell_type": "code",
      "metadata": {
        "id": "RtRVIvCQ5UYm",
        "colab_type": "code",
        "colab": {
          "base_uri": "https://localhost:8080/",
          "height": 51
        },
        "outputId": "afedfa4c-0613-4eb3-b97c-8aae94746f60"
      },
      "source": [
        "#Criando um conjunto via uma string\n",
        "conjunto_A = set(\"Python\")\n",
        "print(\"Conjunto com uma string: \")\n",
        "print(conjunto_A)"
      ],
      "execution_count": null,
      "outputs": [
        {
          "output_type": "stream",
          "text": [
            "Conjunto com uma string: \n",
            "{'h', 'y', 't', 'P', 'n', 'o'}\n"
          ],
          "name": "stdout"
        }
      ]
    },
    {
      "cell_type": "markdown",
      "metadata": {
        "id": "nKnaLOo2kb3K",
        "colab_type": "text"
      },
      "source": [
        "**Criando utilizando uma lista**"
      ]
    },
    {
      "cell_type": "code",
      "metadata": {
        "id": "1YXo38HEkJ6M",
        "colab_type": "code",
        "colab": {
          "base_uri": "https://localhost:8080/",
          "height": 51
        },
        "outputId": "6d0f0802-1720-4144-af6c-f7682acd114c"
      },
      "source": [
        "#Criando utilizando uma lista\n",
        "conjunto_A = set([\"IGTI\", \"MBA\", \"IGTI\"])#OBS: Como podem ver, na criação podem ter elementos iguais, mas o conjunto não contém os duplicados\n",
        "print(\"Conjunto via lista: \")\n",
        "print(conjunto_A)"
      ],
      "execution_count": null,
      "outputs": [
        {
          "output_type": "stream",
          "text": [
            "Conjunto via lista: \n",
            "{'IGTI', 'MBA'}\n"
          ],
          "name": "stdout"
        }
      ]
    },
    {
      "cell_type": "markdown",
      "metadata": {
        "id": "x0_I_2LGmIKU",
        "colab_type": "text"
      },
      "source": [
        "**Criando um conjunto com varios diferentes tipos de elementos**"
      ]
    },
    {
      "cell_type": "code",
      "metadata": {
        "id": "hz8Gw_ztlOUp",
        "colab_type": "code",
        "colab": {
          "base_uri": "https://localhost:8080/",
          "height": 51
        },
        "outputId": "2f29b685-146b-4f85-e081-5e6931371f1e"
      },
      "source": [
        "#Criando um conjunto com varios diferentes tipos de elementos\n",
        "conjunto_A = set([1, 2, 'IGTI', 4, 'BOOTCAMP', 6, 'MBA'])\n",
        "print(\"Criando um conjunto com varios diferentes tipos de elementos: \")\n",
        "print(conjunto_A)"
      ],
      "execution_count": null,
      "outputs": [
        {
          "output_type": "stream",
          "text": [
            "Criando um conjunto com varios diferentes tipos de elementos: \n",
            "{1, 2, 'IGTI', 4, 6, 'MBA', 'BOOTCAMP'}\n"
          ],
          "name": "stdout"
        }
      ]
    },
    {
      "cell_type": "markdown",
      "metadata": {
        "id": "mtphqKHMmxnF",
        "colab_type": "text"
      },
      "source": [
        "**Adicionando elementos a um conjunto**"
      ]
    },
    {
      "cell_type": "code",
      "metadata": {
        "id": "sQKar4Aomtek",
        "colab_type": "code",
        "colab": {
          "base_uri": "https://localhost:8080/",
          "height": 51
        },
        "outputId": "69c626dc-4690-4ffe-d2cd-68c25f197ae2"
      },
      "source": [
        "#Adicionando elementos a um conjunto\n",
        "#criando um conjunto vazio\n",
        "conjunto_A = set()\n",
        "print(\"Conjunto vazio:\")\n",
        "print(conjunto_A)"
      ],
      "execution_count": null,
      "outputs": [
        {
          "output_type": "stream",
          "text": [
            "Conjunto vazio:\n",
            "set()\n"
          ],
          "name": "stdout"
        }
      ]
    },
    {
      "cell_type": "markdown",
      "metadata": {
        "id": "Eh-HVQ30muIk",
        "colab_type": "text"
      },
      "source": [
        "**Adicionando elemento a um conjunto com add() - Adiciona apenas um elemento de cada vez**"
      ]
    },
    {
      "cell_type": "code",
      "metadata": {
        "id": "CHO44mjJnn1D",
        "colab_type": "code",
        "colab": {
          "base_uri": "https://localhost:8080/",
          "height": 51
        },
        "outputId": "721e35f4-0f2a-4fd1-a346-d00699a8680e"
      },
      "source": [
        "#Adicionando elemento a um conjunto com add()\n",
        "conjunto_A.add(8)\n",
        "conjunto_A.add(9)\n",
        "conjunto_A.add((6,7))\n",
        "print(\"Conjunto após a adição de valores: \")\n",
        "print(conjunto_A)"
      ],
      "execution_count": null,
      "outputs": [
        {
          "output_type": "stream",
          "text": [
            "Conjunto após a adição de valores: \n",
            "{8, 9, (6, 7)}\n"
          ],
          "name": "stdout"
        }
      ]
    },
    {
      "cell_type": "markdown",
      "metadata": {
        "id": "axjA42uvoMnC",
        "colab_type": "text"
      },
      "source": [
        "**Adionando elemento através da função update**"
      ]
    },
    {
      "cell_type": "code",
      "metadata": {
        "id": "xzZrOcF7pLuT",
        "colab_type": "code",
        "colab": {
          "base_uri": "https://localhost:8080/",
          "height": 51
        },
        "outputId": "d2a962e4-6d8f-4e7b-e037-9fd78da8595b"
      },
      "source": [
        "#Adionando elemento através da função update\n",
        "conjunto_A.update([10, 11])#adicionando uma lista de elementos\n",
        "print(\"Adicionando valores ao conjunto com a função update\")\n",
        "print(conjunto_A)"
      ],
      "execution_count": null,
      "outputs": [
        {
          "output_type": "stream",
          "text": [
            "Adicionando valores ao conjunto com a função update\n",
            "{(6, 7), 8, 9, 10, 11}\n"
          ],
          "name": "stdout"
        }
      ]
    },
    {
      "cell_type": "markdown",
      "metadata": {
        "id": "3z8Z3F5aplV8",
        "colab_type": "text"
      },
      "source": [
        "**Acessando elementos em um conjunto - Como não saõa ordenadas, não podemos acessar via indice**"
      ]
    },
    {
      "cell_type": "code",
      "metadata": {
        "id": "jaim_Ycvprdx",
        "colab_type": "code",
        "colab": {
          "base_uri": "https://localhost:8080/",
          "height": 51
        },
        "outputId": "5c239b84-bf8f-4921-bbaa-21090dc2f8be"
      },
      "source": [
        "#Acessando elementos em um conjunto\n",
        "#Criando um conjunto\n",
        "conjunto_A = set([\"IGTI\", \"BOOTCAMP\", \"PYTHON\"])\n",
        "print(\"Elemento do conjunto A: \")\n",
        "print(conjunto_A )"
      ],
      "execution_count": null,
      "outputs": [
        {
          "output_type": "stream",
          "text": [
            "Elemento do conjunto A: \n",
            "{'BOOTCAMP', 'IGTI', 'PYTHON'}\n"
          ],
          "name": "stdout"
        }
      ]
    },
    {
      "cell_type": "markdown",
      "metadata": {
        "id": "VPQMp61oqugx",
        "colab_type": "text"
      },
      "source": [
        "**Acessando elementos através de um loop**"
      ]
    },
    {
      "cell_type": "code",
      "metadata": {
        "id": "woFamCxKqtqv",
        "colab_type": "code",
        "colab": {
          "base_uri": "https://localhost:8080/",
          "height": 51
        },
        "outputId": "5f9e7cea-ace3-4f99-86b0-f2d79c3ea217"
      },
      "source": [
        "#Acessando elementos através de um loop\n",
        "print(\"Elementos do conunto a: \")\n",
        "for i in conjunto_A:\n",
        "    print(i, end =\" \")"
      ],
      "execution_count": null,
      "outputs": [
        {
          "output_type": "stream",
          "text": [
            "Elementos do conunto a: \n",
            "BOOTCAMP IGTI PYTHON "
          ],
          "name": "stdout"
        }
      ]
    },
    {
      "cell_type": "markdown",
      "metadata": {
        "id": "7_eviT7BGADI",
        "colab_type": "text"
      },
      "source": [
        "**Verificando se um elemento pertence ao conjunto**"
      ]
    },
    {
      "cell_type": "code",
      "metadata": {
        "id": "5hZPft_zGHDN",
        "colab_type": "code",
        "colab": {
          "base_uri": "https://localhost:8080/",
          "height": 51
        },
        "outputId": "e6283d2f-bb53-4b9b-d730-e6e22fc288fd"
      },
      "source": [
        "#Verificando se um elemento pertence ao conjunto\n",
        "print(\"IGTI\" in conjunto_A)\n",
        "print(\"MBA\" in conjunto_A)"
      ],
      "execution_count": null,
      "outputs": [
        {
          "output_type": "stream",
          "text": [
            "True\n",
            "False\n"
          ],
          "name": "stdout"
        }
      ]
    },
    {
      "cell_type": "markdown",
      "metadata": {
        "id": "vbeiqV-qGieN",
        "colab_type": "text"
      },
      "source": [
        "**Removendo elementos de um conjunto**"
      ]
    },
    {
      "cell_type": "code",
      "metadata": {
        "id": "qfQBSFj8GnDh",
        "colab_type": "code",
        "colab": {
          "base_uri": "https://localhost:8080/",
          "height": 51
        },
        "outputId": "d5f6454a-5908-44bc-9687-dc881c8f3b62"
      },
      "source": [
        "#Criando um conjunto\n",
        "conjunto_A = set([1, 2, 3, 4, 5, 6,\n",
        "                 7, 8, 9, 10, 11, 12 ])\n",
        "print(\"Conjunto inicial: \")\n",
        "print(conjunto_A)"
      ],
      "execution_count": null,
      "outputs": [
        {
          "output_type": "stream",
          "text": [
            "Conjunto inicial: \n",
            "{1, 2, 3, 4, 5, 6, 7, 8, 9, 10, 11, 12}\n"
          ],
          "name": "stdout"
        }
      ]
    },
    {
      "cell_type": "markdown",
      "metadata": {
        "id": "hxd-llTwHHy5",
        "colab_type": "text"
      },
      "source": [
        "**Removendo elementos de um conjunto com a função remove()**"
      ]
    },
    {
      "cell_type": "code",
      "metadata": {
        "id": "OaXMxurzHMyy",
        "colab_type": "code",
        "colab": {
          "base_uri": "https://localhost:8080/",
          "height": 51
        },
        "outputId": "8abeb10e-8bd8-420d-b45c-86d9334c603e"
      },
      "source": [
        "#Removendo elementos de um conjunto com a função remove()\n",
        "conjunto_A.remove(5)\n",
        "conjunto_A.remove(6)\n",
        "print(\"Conjunto após a remoção com a função remove(): \")\n",
        "print(conjunto_A)"
      ],
      "execution_count": null,
      "outputs": [
        {
          "output_type": "stream",
          "text": [
            "Conjunto após a remoção com a função remove(): \n",
            "{1, 2, 3, 4, 7, 8, 9, 10, 11, 12}\n"
          ],
          "name": "stdout"
        }
      ]
    },
    {
      "cell_type": "markdown",
      "metadata": {
        "id": "nZaEJuD2h60r",
        "colab_type": "text"
      },
      "source": [
        "**Removendo elementos de um conjunto com a função discard()**"
      ]
    },
    {
      "cell_type": "code",
      "metadata": {
        "id": "l726zNfzh8Bh",
        "colab_type": "code",
        "colab": {
          "base_uri": "https://localhost:8080/",
          "height": 51
        },
        "outputId": "5fa61f16-87c7-4bb1-da8d-54b20fcf25f4"
      },
      "source": [
        "#Removendo elementos de um conjunto com a função discard()\n",
        "conjunto_A.discard(8)\n",
        "conjunto_A.discard(9)\n",
        "print(\"Conjunto após a remoção utilizando o discard(): \")\n",
        "print(conjunto_A)"
      ],
      "execution_count": null,
      "outputs": [
        {
          "output_type": "stream",
          "text": [
            "Conjunto após a remoção utilizando o discard(): \n",
            "{1, 2, 3, 4, 7, 10, 11, 12}\n"
          ],
          "name": "stdout"
        }
      ]
    },
    {
      "cell_type": "markdown",
      "metadata": {
        "id": "tgwQpxgpjEOG",
        "colab_type": "text"
      },
      "source": [
        "**Removendo elementos de um conjunto com o metodo pop()**"
      ]
    },
    {
      "cell_type": "code",
      "metadata": {
        "id": "tPy6XzzbjMJs",
        "colab_type": "code",
        "colab": {
          "base_uri": "https://localhost:8080/",
          "height": 51
        },
        "outputId": "27d5a1f0-7adf-4a14-de8e-f4bea52618b1"
      },
      "source": [
        "#Removendo elementos de um conjunto com o metodo pop()\n",
        "conjunto_A.pop()\n",
        "print(\"Removendo elemento com o pop(): \")\n",
        "print(conjunto_A)"
      ],
      "execution_count": null,
      "outputs": [
        {
          "output_type": "stream",
          "text": [
            "Removendo elemento com o pop(): \n",
            "{2, 3, 4, 7, 10, 11, 12}\n"
          ],
          "name": "stdout"
        }
      ]
    },
    {
      "cell_type": "markdown",
      "metadata": {
        "id": "O36ZZeUijsbS",
        "colab_type": "text"
      },
      "source": [
        "**Limpando o conjunto com o clear**"
      ]
    },
    {
      "cell_type": "code",
      "metadata": {
        "id": "Wigmy7H7jxbh",
        "colab_type": "code",
        "colab": {
          "base_uri": "https://localhost:8080/",
          "height": 51
        },
        "outputId": "57454dfb-ff3d-4a1e-bf51-e1bc83ded4d3"
      },
      "source": [
        "#Limpando o conjunto com o clear\n",
        "conjunto_A.clear()\n",
        "print(\"**Limpando o conjunto com o clear(): \")\n",
        "print(conjunto_A)"
      ],
      "execution_count": null,
      "outputs": [
        {
          "output_type": "stream",
          "text": [
            "**Limpando o conjunto com o clear(): \n",
            "set()\n"
          ],
          "name": "stdout"
        }
      ]
    },
    {
      "cell_type": "markdown",
      "metadata": {
        "id": "uxxazwOPkK0V",
        "colab_type": "text"
      },
      "source": [
        "**Operações com conjuntos**"
      ]
    },
    {
      "cell_type": "markdown",
      "metadata": {
        "id": "X85LJ3rAkX9h",
        "colab_type": "text"
      },
      "source": [
        "**Conjunto União**"
      ]
    },
    {
      "cell_type": "code",
      "metadata": {
        "id": "2DagXGHdkcMY",
        "colab_type": "code",
        "colab": {
          "base_uri": "https://localhost:8080/",
          "height": 51
        },
        "outputId": "871104b2-b18f-484d-b36d-de44a9c8d22f"
      },
      "source": [
        "#Definindo os conjuntos\n",
        "conjunto_A = set([1, 2, 3])\n",
        "conjunto_B = set([3, 4, 5])\n",
        "print(\"Conjunto_A: \", conjunto_A)\n",
        "print(\"Conjunto_B: \", conjunto_B)"
      ],
      "execution_count": null,
      "outputs": [
        {
          "output_type": "stream",
          "text": [
            "Conjunto_A:  {1, 2, 3}\n",
            "Conjunto_B:  {3, 4, 5}\n"
          ],
          "name": "stdout"
        }
      ]
    },
    {
      "cell_type": "markdown",
      "metadata": {
        "id": "GLGa945QkszJ",
        "colab_type": "text"
      },
      "source": [
        "**Conjunto União**"
      ]
    },
    {
      "cell_type": "code",
      "metadata": {
        "id": "PzJna0EokOCK",
        "colab_type": "code",
        "colab": {
          "base_uri": "https://localhost:8080/",
          "height": 34
        },
        "outputId": "54460e99-dad1-4d7c-9850-ce9f91d8bd32"
      },
      "source": [
        "#UNIÃO\n",
        "uniao = conjunto_A.union(conjunto_B)\n",
        "print(\"União AUB: \", uniao)"
      ],
      "execution_count": null,
      "outputs": [
        {
          "output_type": "stream",
          "text": [
            "União AUB:  {1, 2, 3, 4, 5}\n"
          ],
          "name": "stdout"
        }
      ]
    },
    {
      "cell_type": "markdown",
      "metadata": {
        "id": "RFOxB3I9lyQH",
        "colab_type": "text"
      },
      "source": [
        "**Conjunto Interse~ção**\n"
      ]
    },
    {
      "cell_type": "code",
      "metadata": {
        "id": "2Lnlcj9_l7y4",
        "colab_type": "code",
        "colab": {
          "base_uri": "https://localhost:8080/",
          "height": 34
        },
        "outputId": "580f51dd-e1ca-4dd3-ed6f-ee6f1319c4db"
      },
      "source": [
        "#INTERSEÇÃO\n",
        "intersercao = conjunto_A.intersection(conjunto_B)\n",
        "print(\"Interseção A e B: \", intersercao)"
      ],
      "execution_count": null,
      "outputs": [
        {
          "output_type": "stream",
          "text": [
            "Interseção A e B:  {3}\n"
          ],
          "name": "stdout"
        }
      ]
    },
    {
      "cell_type": "markdown",
      "metadata": {
        "id": "JrbZw4_Yl9Y1",
        "colab_type": "text"
      },
      "source": [
        "**Conjunto Diferença**"
      ]
    },
    {
      "cell_type": "code",
      "metadata": {
        "id": "xCrloXMTmBz1",
        "colab_type": "code",
        "colab": {
          "base_uri": "https://localhost:8080/",
          "height": 34
        },
        "outputId": "7fb3de90-7b3d-4e69-820d-e3b4af81a8a6"
      },
      "source": [
        "#DIFERENÇA\n",
        "diferenca = conjunto_A.difference(conjunto_B)\n",
        "print(\"Diferença A - B: \", diferenca)"
      ],
      "execution_count": null,
      "outputs": [
        {
          "output_type": "stream",
          "text": [
            "Diferença A - B:  {1, 2}\n"
          ],
          "name": "stdout"
        }
      ]
    },
    {
      "cell_type": "markdown",
      "metadata": {
        "id": "Sctd_nufnQyq",
        "colab_type": "text"
      },
      "source": [
        "**Conjunto Diferença Simétrica**"
      ]
    },
    {
      "cell_type": "code",
      "metadata": {
        "id": "5BFx4q_8nVhA",
        "colab_type": "code",
        "colab": {
          "base_uri": "https://localhost:8080/",
          "height": 34
        },
        "outputId": "0b8f6170-5eb2-4380-e790-4ea998ee2384"
      },
      "source": [
        "#diferença simétrica\n",
        "diferenca_simetrica = conjunto_A.symmetric_difference(conjunto_B)\n",
        "print(\"Diferença Simétrica entre A e B: \", diferenca_simetrica)"
      ],
      "execution_count": null,
      "outputs": [
        {
          "output_type": "stream",
          "text": [
            "Diferença Simétrica entre A e B:  {1, 2, 4, 5}\n"
          ],
          "name": "stdout"
        }
      ]
    }
  ]
}