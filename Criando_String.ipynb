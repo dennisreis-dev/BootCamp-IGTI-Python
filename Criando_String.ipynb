{
  "nbformat": 4,
  "nbformat_minor": 0,
  "metadata": {
    "colab": {
      "name": "Criando_String.ipynb",
      "provenance": [],
      "authorship_tag": "ABX9TyN58rYfCliiJvRbiCai7L/C"
    },
    "kernelspec": {
      "name": "python3",
      "display_name": "Python 3"
    }
  },
  "cells": [
    {
      "cell_type": "code",
      "metadata": {
        "id": "zkW3ovKM5nTp",
        "colab_type": "code",
        "colab": {
          "base_uri": "https://localhost:8080/",
          "height": 68
        },
        "outputId": "b900ad3c-ad4b-493e-f3a8-fd37561c75cc"
      },
      "source": [
        "#Criando String  - String de aspas Simples(String são os textos que declaramos)\n",
        "\n",
        "string1 = 'Fundamentos de Python no IGPTI'\n",
        "print(\"String com aspas Simples\")\n",
        "print(string1)\n",
        "print(type(string1))"
      ],
      "execution_count": null,
      "outputs": [
        {
          "output_type": "stream",
          "text": [
            "String com aspas Simples\n",
            "Fundamentos de Python no IGPTI\n",
            "<class 'str'>\n"
          ],
          "name": "stdout"
        }
      ]
    },
    {
      "cell_type": "code",
      "metadata": {
        "id": "8xVLipgZ7YGb",
        "colab_type": "code",
        "colab": {
          "base_uri": "https://localhost:8080/",
          "height": 68
        },
        "outputId": "1cf327ba-9d82-4521-e73f-fcbb06824ec9"
      },
      "source": [
        "#String de Aspas Duplas\n",
        "\n",
        "string1 = \"Fundamentos de Python no IGPTI\"\n",
        "print(\"String com spas Duplas:\")\n",
        "print(string1)\n",
        "print(type(string1))"
      ],
      "execution_count": null,
      "outputs": [
        {
          "output_type": "stream",
          "text": [
            "String com spas Duplas:\n",
            "Fundamentos de Python no IGPTI\n",
            "<class 'str'>\n"
          ],
          "name": "stdout"
        }
      ]
    },
    {
      "cell_type": "code",
      "metadata": {
        "id": "u1BVeblm8Ecj",
        "colab_type": "code",
        "colab": {
          "base_uri": "https://localhost:8080/",
          "height": 68
        },
        "outputId": "9d7bfb2c-8760-4f5e-db49-590a50fd3de8"
      },
      "source": [
        "#String com Aspas Triplas\n",
        "\n",
        "string1 = '''Fundamentos de Python no IGPTI'''\n",
        "print(\"String com Asplas Triplas:\")\n",
        "print(string1)\n",
        "print(type(string1))"
      ],
      "execution_count": null,
      "outputs": [
        {
          "output_type": "stream",
          "text": [
            "String com Asplas Triplas:\n",
            "Fundamentos de Python no IGPTI\n",
            "<class 'str'>\n"
          ],
          "name": "stdout"
        }
      ]
    },
    {
      "cell_type": "code",
      "metadata": {
        "id": "fvMzWxpy9Lmw",
        "colab_type": "code",
        "colab": {
          "base_uri": "https://localhost:8080/",
          "height": 102
        },
        "outputId": "6c0df1f2-5f7b-41ea-9c1d-6c82e23ad904"
      },
      "source": [
        "# Aspas Triplas em Multiplas linhas\n",
        "\n",
        "string1 = '''Fundamentos de Python\n",
        "              do\n",
        "              IGTI'''\n",
        "print(\"String com multiplas linhas\")\n",
        "print(string1)\n",
        "print(type(string1))"
      ],
      "execution_count": null,
      "outputs": [
        {
          "output_type": "stream",
          "text": [
            "String com multiplas linhas\n",
            "Fundamentos de Python\n",
            "              do\n",
            "              IGTI\n",
            "<class 'str'>\n"
          ],
          "name": "stdout"
        }
      ]
    },
    {
      "cell_type": "code",
      "metadata": {
        "id": "LOMf__Qb-p47",
        "colab_type": "code",
        "colab": {
          "base_uri": "https://localhost:8080/",
          "height": 51
        },
        "outputId": "fd032412-5812-4d82-df2a-38e4a0e674aa"
      },
      "source": [
        "#Acessando partes das strings\n",
        "\n",
        "string1 = \"InstituitoIGTI\"\n",
        "print(\"String: \")\n",
        "print(string1)"
      ],
      "execution_count": null,
      "outputs": [
        {
          "output_type": "stream",
          "text": [
            "String: \n",
            "InstituitoIGTI\n"
          ],
          "name": "stdout"
        }
      ]
    },
    {
      "cell_type": "code",
      "metadata": {
        "id": "eCR_EP3uEMsA",
        "colab_type": "code",
        "colab": {
          "base_uri": "https://localhost:8080/",
          "height": 51
        },
        "outputId": "cfc52c59-93d9-4d24-a69d-dcb0889f232c"
      },
      "source": [
        "#print do primeiro caracter\n",
        "\n",
        "print(\"O primeiro caracter da string é: \")\n",
        "print(string1[0])\n"
      ],
      "execution_count": null,
      "outputs": [
        {
          "output_type": "stream",
          "text": [
            "O primeiro caracter da string é: \n",
            "I\n"
          ],
          "name": "stdout"
        }
      ]
    },
    {
      "cell_type": "code",
      "metadata": {
        "id": "eO1fgBPKFJmD",
        "colab_type": "code",
        "colab": {
          "base_uri": "https://localhost:8080/",
          "height": 51
        },
        "outputId": "baf2224c-93ec-4eee-bb0f-bb16bd8989bf"
      },
      "source": [
        "#Print o último caracter\n",
        "\n",
        "print(\"O último caracter da string é: \")\n",
        "print(string1[-1])"
      ],
      "execution_count": null,
      "outputs": [
        {
          "output_type": "stream",
          "text": [
            "O último caracter da string é: \n",
            "I\n"
          ],
          "name": "stdout"
        }
      ]
    },
    {
      "cell_type": "code",
      "metadata": {
        "id": "segXnaBqFrjf",
        "colab_type": "code",
        "colab": {
          "base_uri": "https://localhost:8080/",
          "height": 51
        },
        "outputId": "b4afe289-c24e-4142-b105-ab9ff9d397f6"
      },
      "source": [
        "#Deletendo ou realizando um update de uma stgring\n",
        "#Criando a noss String\n",
        "\n",
        "string1 = \"Programação no IGTI\"\n",
        "print(\"String Inicial: \")\n",
        "print(string1)"
      ],
      "execution_count": null,
      "outputs": [
        {
          "output_type": "stream",
          "text": [
            "String Inicial: \n",
            "Programação no IGTI\n"
          ],
          "name": "stdout"
        }
      ]
    },
    {
      "cell_type": "code",
      "metadata": {
        "id": "UWyvXCu-SWj-",
        "colab_type": "code",
        "colab": {
          "base_uri": "https://localhost:8080/",
          "height": 250
        },
        "outputId": "85d3ec68-d9dd-47ef-e886-4ed4faf02ff0"
      },
      "source": [
        "#Realizando o update de um caracter da string 1 =======> Observação: Não conseguimos alterar um string no Python, por isso ocorreu o erro\n",
        "\n",
        "print(\"Caracter da posição 2: \", string1[2])\n",
        "string1[2] = 'p'\n",
        "print(\"Realizando o update para o caracter de posição (indice) [2]\")\n",
        "print(string1)"
      ],
      "execution_count": null,
      "outputs": [
        {
          "output_type": "stream",
          "text": [
            "Caracter da posição 2:  o\n"
          ],
          "name": "stdout"
        },
        {
          "output_type": "error",
          "ename": "TypeError",
          "evalue": "ignored",
          "traceback": [
            "\u001b[0;31m---------------------------------------------------------------------------\u001b[0m",
            "\u001b[0;31mTypeError\u001b[0m                                 Traceback (most recent call last)",
            "\u001b[0;32m<ipython-input-11-cc5503d65757>\u001b[0m in \u001b[0;36m<module>\u001b[0;34m()\u001b[0m\n\u001b[1;32m      2\u001b[0m \u001b[0;34m\u001b[0m\u001b[0m\n\u001b[1;32m      3\u001b[0m \u001b[0mprint\u001b[0m\u001b[0;34m(\u001b[0m\u001b[0;34m\"Caracter da posição 2: \"\u001b[0m\u001b[0;34m,\u001b[0m \u001b[0mstring1\u001b[0m\u001b[0;34m[\u001b[0m\u001b[0;36m2\u001b[0m\u001b[0;34m]\u001b[0m\u001b[0;34m)\u001b[0m\u001b[0;34m\u001b[0m\u001b[0;34m\u001b[0m\u001b[0m\n\u001b[0;32m----> 4\u001b[0;31m \u001b[0mstring1\u001b[0m\u001b[0;34m[\u001b[0m\u001b[0;36m2\u001b[0m\u001b[0;34m]\u001b[0m \u001b[0;34m=\u001b[0m \u001b[0;34m'p'\u001b[0m\u001b[0;34m\u001b[0m\u001b[0;34m\u001b[0m\u001b[0m\n\u001b[0m\u001b[1;32m      5\u001b[0m \u001b[0mprint\u001b[0m\u001b[0;34m(\u001b[0m\u001b[0;34m\"Realizando o update para o caracter de posição (indice) [2]\"\u001b[0m\u001b[0;34m)\u001b[0m\u001b[0;34m\u001b[0m\u001b[0;34m\u001b[0m\u001b[0m\n\u001b[1;32m      6\u001b[0m \u001b[0mprint\u001b[0m\u001b[0;34m(\u001b[0m\u001b[0mstring1\u001b[0m\u001b[0;34m)\u001b[0m\u001b[0;34m\u001b[0m\u001b[0;34m\u001b[0m\u001b[0m\n",
            "\u001b[0;31mTypeError\u001b[0m: 'str' object does not support item assignment"
          ]
        }
      ]
    },
    {
      "cell_type": "code",
      "metadata": {
        "id": "kFlOBawrUogt",
        "colab_type": "code",
        "colab": {
          "base_uri": "https://localhost:8080/",
          "height": 233
        },
        "outputId": "d2055b92-d921-44eb-8b7e-66b516d72d2b"
      },
      "source": [
        "#Deletando um caracter da string ============> Observação: Também não conseguimos deletar um caracter de uma string, por esse motivo ocorreu o erro\n",
        "\n",
        "del string1[2]\n",
        "print(\"Deletando o caracter da posição 2: \")\n",
        "print(string1)"
      ],
      "execution_count": null,
      "outputs": [
        {
          "output_type": "error",
          "ename": "TypeError",
          "evalue": "ignored",
          "traceback": [
            "\u001b[0;31m---------------------------------------------------------------------------\u001b[0m",
            "\u001b[0;31mTypeError\u001b[0m                                 Traceback (most recent call last)",
            "\u001b[0;32m<ipython-input-12-99c11bd478c7>\u001b[0m in \u001b[0;36m<module>\u001b[0;34m()\u001b[0m\n\u001b[1;32m      1\u001b[0m \u001b[0;31m#Deletando um caracter da string\u001b[0m\u001b[0;34m\u001b[0m\u001b[0;34m\u001b[0m\u001b[0;34m\u001b[0m\u001b[0m\n\u001b[1;32m      2\u001b[0m \u001b[0;34m\u001b[0m\u001b[0m\n\u001b[0;32m----> 3\u001b[0;31m \u001b[0;32mdel\u001b[0m \u001b[0mstring1\u001b[0m\u001b[0;34m[\u001b[0m\u001b[0;36m2\u001b[0m\u001b[0;34m]\u001b[0m\u001b[0;34m\u001b[0m\u001b[0;34m\u001b[0m\u001b[0m\n\u001b[0m\u001b[1;32m      4\u001b[0m \u001b[0mprint\u001b[0m\u001b[0;34m(\u001b[0m\u001b[0;34m\"Deletando o caracter da posição 2: \"\u001b[0m\u001b[0;34m)\u001b[0m\u001b[0;34m\u001b[0m\u001b[0;34m\u001b[0m\u001b[0m\n\u001b[1;32m      5\u001b[0m \u001b[0mprint\u001b[0m\u001b[0;34m(\u001b[0m\u001b[0mstring1\u001b[0m\u001b[0;34m)\u001b[0m\u001b[0;34m\u001b[0m\u001b[0;34m\u001b[0m\u001b[0m\n",
            "\u001b[0;31mTypeError\u001b[0m: 'str' object doesn't support item deletion"
          ]
        }
      ]
    },
    {
      "cell_type": "code",
      "metadata": {
        "id": "Y-m-o0jFVsaj",
        "colab_type": "code",
        "colab": {
          "base_uri": "https://localhost:8080/",
          "height": 51
        },
        "outputId": "8ebf5da1-0d0c-43b6-8790-ed2920b8b574"
      },
      "source": [
        "#Utilizando aspas em String\n",
        "\n",
        "#String Inicial\n",
        "\n",
        "string1 = '''O IGTI possui \"bootcap\" e 'MBA' em TI'''\n",
        "print(\"String inicial com aspas triplas: \")\n",
        "print(string1)"
      ],
      "execution_count": null,
      "outputs": [
        {
          "output_type": "stream",
          "text": [
            "String inicial com aspas triplas: \n",
            "O IGTI possui \"bootcap\" e 'MBA' em TI\n"
          ],
          "name": "stdout"
        }
      ]
    },
    {
      "cell_type": "code",
      "metadata": {
        "id": "owYb4nRMXQWX",
        "colab_type": "code",
        "colab": {
          "base_uri": "https://localhost:8080/",
          "height": 51
        },
        "outputId": "8bbf686a-2cf3-4776-9580-3e926e6d2741"
      },
      "source": [
        "#Realizando o print com aspas simples\n",
        "\n",
        "string1 = 'O IGTI possui \"bootcamp\" e \\'MBA\\'em TI'\n",
        "print(\"Realizando o print com aspas simples \")\n",
        "print(string1)"
      ],
      "execution_count": null,
      "outputs": [
        {
          "output_type": "stream",
          "text": [
            "Realizando o print com aspas simples \n",
            "O IGTI possui \"bootcamp\" e 'MBA'em TI\n"
          ],
          "name": "stdout"
        }
      ]
    },
    {
      "cell_type": "code",
      "metadata": {
        "id": "IPkq7p4nX2wr",
        "colab_type": "code",
        "colab": {
          "base_uri": "https://localhost:8080/",
          "height": 51
        },
        "outputId": "0cad745c-5633-4459-b8a1-5a395ed9c377"
      },
      "source": [
        "#Realizando o print com aspas duplas\n",
        "\n",
        "string1 = \"O IGTI possui \\\"bootcamp\\\" e 'MBA' em TI\"\n",
        "print(\"Realizando o print com aspas duplas\")\n",
        "print(string1)"
      ],
      "execution_count": null,
      "outputs": [
        {
          "output_type": "stream",
          "text": [
            "Realizando o print com aspas duplas\n",
            "O IGTI possui \"bootcamp\" e 'MBA' em TI\n"
          ],
          "name": "stdout"
        }
      ]
    },
    {
      "cell_type": "code",
      "metadata": {
        "id": "C3Yyspp3Yx_m",
        "colab_type": "code",
        "colab": {
          "base_uri": "https://localhost:8080/",
          "height": 34
        },
        "outputId": "6218b692-2794-422b-a83b-51fcfb6dea12"
      },
      "source": [
        "#Transformando tipo de numérico em string e vice-versa\n",
        "\n",
        "#Cria um numero inteiro\n",
        "\n",
        "n_inteiro = 100\n",
        "type(n_inteiro)"
      ],
      "execution_count": null,
      "outputs": [
        {
          "output_type": "execute_result",
          "data": {
            "text/plain": [
              "int"
            ]
          },
          "metadata": {
            "tags": []
          },
          "execution_count": 16
        }
      ]
    },
    {
      "cell_type": "code",
      "metadata": {
        "id": "X6FFUCJZZZZg",
        "colab_type": "code",
        "colab": {
          "base_uri": "https://localhost:8080/",
          "height": 34
        },
        "outputId": "ffee58b1-0195-4a8a-ddd9-73f6caec4256"
      },
      "source": [
        "#Transforma o numero inteiro em string\n",
        "\n",
        "string_n_inteiro = str(n_inteiro)\n",
        "type(string_n_inteiro)"
      ],
      "execution_count": null,
      "outputs": [
        {
          "output_type": "execute_result",
          "data": {
            "text/plain": [
              "str"
            ]
          },
          "metadata": {
            "tags": []
          },
          "execution_count": 18
        }
      ]
    },
    {
      "cell_type": "code",
      "metadata": {
        "id": "a8ITcQpQaA7I",
        "colab_type": "code",
        "colab": {
          "base_uri": "https://localhost:8080/",
          "height": 51
        },
        "outputId": "9eba7e2c-6355-4d37-d861-6ddcae5a343b"
      },
      "source": [
        "print(int(string_n_inteiro))\n",
        "type(int(string_n_inteiro))"
      ],
      "execution_count": null,
      "outputs": [
        {
          "output_type": "stream",
          "text": [
            "100\n"
          ],
          "name": "stdout"
        },
        {
          "output_type": "execute_result",
          "data": {
            "text/plain": [
              "int"
            ]
          },
          "metadata": {
            "tags": []
          },
          "execution_count": 19
        }
      ]
    }
  ]
}