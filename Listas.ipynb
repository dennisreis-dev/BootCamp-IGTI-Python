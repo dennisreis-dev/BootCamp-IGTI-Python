{
  "nbformat": 4,
  "nbformat_minor": 0,
  "metadata": {
    "colab": {
      "name": "Listas.ipynb",
      "provenance": [],
      "authorship_tag": "ABX9TyMeZax8hwmrjw9qQCrICE0e"
    },
    "kernelspec": {
      "name": "python3",
      "display_name": "Python 3"
    }
  },
  "cells": [
    {
      "cell_type": "markdown",
      "metadata": {
        "id": "VPk5VF6J7YVe",
        "colab_type": "text"
      },
      "source": [
        "LISTAS"
      ]
    },
    {
      "cell_type": "code",
      "metadata": {
        "id": "HrXd8M0Xbvhm",
        "colab_type": "code",
        "colab": {
          "base_uri": "https://localhost:8080/",
          "height": 51
        },
        "outputId": "7784d120-3ddc-4c21-dd58-2d6cf217b9be"
      },
      "source": [
        "#Criando uma lista em Python\n",
        "\n",
        "lista = []\n",
        "print(\"Lista vazia: \")\n",
        "print(type(lista))"
      ],
      "execution_count": null,
      "outputs": [
        {
          "output_type": "stream",
          "text": [
            "Lista vazia: \n",
            "<class 'list'>\n"
          ],
          "name": "stdout"
        }
      ]
    },
    {
      "cell_type": "code",
      "metadata": {
        "id": "ltqcU26cdKZ9",
        "colab_type": "code",
        "colab": {
          "base_uri": "https://localhost:8080/",
          "height": 51
        },
        "outputId": "a0a3446f-91fb-4556-d726-7f9bd032c213"
      },
      "source": [
        "#Lista com uma string\n",
        "\n",
        "lista = ['IGTI']\n",
        "print(\"Lista de uma string: \")\n",
        "print(lista)"
      ],
      "execution_count": null,
      "outputs": [
        {
          "output_type": "stream",
          "text": [
            "Lista de uma string: \n",
            "['IGTI']\n"
          ],
          "name": "stdout"
        }
      ]
    },
    {
      "cell_type": "code",
      "metadata": {
        "id": "N46vRYqndtWZ",
        "colab_type": "code",
        "colab": {
          "base_uri": "https://localhost:8080/",
          "height": 68
        },
        "outputId": "5c45d0c4-312b-4763-a88f-6311a23d3870"
      },
      "source": [
        "#Lista com varios valores\n",
        "\n",
        "lista = [\"IGTI\", \"MBA\",\"Python\"]\n",
        "print(\"Lista com várias strings: \")\n",
        "print(lista[0])\n",
        "print(lista[2])"
      ],
      "execution_count": null,
      "outputs": [
        {
          "output_type": "stream",
          "text": [
            "Lista com várias strings: \n",
            "IGTI\n",
            "Python\n"
          ],
          "name": "stdout"
        }
      ]
    },
    {
      "cell_type": "code",
      "metadata": {
        "id": "jF92Bq7uhMXj",
        "colab_type": "code",
        "colab": {
          "base_uri": "https://localhost:8080/",
          "height": 51
        },
        "outputId": "f9003dee-8133-44d4-f1e2-4abdd1b5ecf0"
      },
      "source": [
        "#Criando Lista de Listas\n",
        "\n",
        "lista = [['IGTI','MBA'],['Python']]\n",
        "print(\"Lista com várias demendões: \")\n",
        "print(lista)"
      ],
      "execution_count": null,
      "outputs": [
        {
          "output_type": "stream",
          "text": [
            "Lista com várias demendões: \n",
            "[['IGTI', 'MBA'], ['Python']]\n"
          ],
          "name": "stdout"
        }
      ]
    },
    {
      "cell_type": "code",
      "metadata": {
        "id": "vZ8o07a_huPN",
        "colab_type": "code",
        "colab": {
          "base_uri": "https://localhost:8080/",
          "height": 51
        },
        "outputId": "6793f3d1-92fb-46a4-c0c3-6ec92084848c"
      },
      "source": [
        "#Criando uma lista com tipos de diferentes de dados\n",
        "\n",
        "lista = [['IGTI','MBA'], 123, 'Python']\n",
        "print(\"Lista com varias dimensões e valores: \")\n",
        "print(lista)"
      ],
      "execution_count": null,
      "outputs": [
        {
          "output_type": "stream",
          "text": [
            "Lista com varias dimensões e valores: \n",
            "[['IGTI', 'MBA'], 123, 'Python']\n"
          ],
          "name": "stdout"
        }
      ]
    },
    {
      "cell_type": "markdown",
      "metadata": {
        "id": "UKRhK6Hu7tL5",
        "colab_type": "text"
      },
      "source": [
        "**Adicionando elemento com append**"
      ]
    },
    {
      "cell_type": "code",
      "metadata": {
        "id": "fa26H-hki-AH",
        "colab_type": "code",
        "colab": {
          "base_uri": "https://localhost:8080/",
          "height": 34
        },
        "outputId": "a30fdba1-6bf1-4942-9b2e-c697733bbe87"
      },
      "source": [
        "#Adicionar valores em uma lista\n",
        "\n",
        "lista = [1,2,3,4]\n",
        "print(\"Lista númerica: \", lista)"
      ],
      "execution_count": null,
      "outputs": [
        {
          "output_type": "stream",
          "text": [
            "Lista númerica:  [1, 2, 3, 4]\n"
          ],
          "name": "stdout"
        }
      ]
    },
    {
      "cell_type": "code",
      "metadata": {
        "id": "msFlMvpxkCT9",
        "colab_type": "code",
        "colab": {
          "base_uri": "https://localhost:8080/",
          "height": 34
        },
        "outputId": "36a132fd-ad8e-49bb-a5f1-a3ba5d534283"
      },
      "source": [
        "#Adicionando elemento com append \n",
        "\n",
        "lista.append(5)\n",
        "print(\"Lista numérica:\",lista )"
      ],
      "execution_count": null,
      "outputs": [
        {
          "output_type": "stream",
          "text": [
            "Lista numérica: [1, 2, 3, 4, 5]\n"
          ],
          "name": "stdout"
        }
      ]
    },
    {
      "cell_type": "code",
      "metadata": {
        "id": "I_2MWUlNlBD5",
        "colab_type": "code",
        "colab": {
          "base_uri": "https://localhost:8080/",
          "height": 34
        },
        "outputId": "7ab755a3-acf1-4009-d3e0-fd7a5536651c"
      },
      "source": [
        "#adicionando elemento com append\n",
        "\n",
        "lista.append('IGTI')\n",
        "print('Lista numérica: ', lista)"
      ],
      "execution_count": null,
      "outputs": [
        {
          "output_type": "stream",
          "text": [
            "Lista numérica:  [1, 2, 3, 4, 5, 'IGTI']\n"
          ],
          "name": "stdout"
        }
      ]
    },
    {
      "cell_type": "markdown",
      "metadata": {
        "id": "ustNeA1G8M8U",
        "colab_type": "text"
      },
      "source": [
        "Append adiciona os elementos ao final da lista\n"
      ]
    },
    {
      "cell_type": "markdown",
      "metadata": {
        "id": "mepqXPSm8aYB",
        "colab_type": "text"
      },
      "source": [
        "**Adicionando elemento com insert(), nesse caso você escolhe qual a posição da lista o seu elemento será inserido**\n"
      ]
    },
    {
      "cell_type": "code",
      "metadata": {
        "id": "OpEBdWzTsj5S",
        "colab_type": "code",
        "colab": {
          "base_uri": "https://localhost:8080/",
          "height": 51
        },
        "outputId": "ac615d0a-49fc-4414-c292-fdbb029a595e"
      },
      "source": [
        "#Adicionando elemento com insert(), nesse caso você escolhe qual a posição da lista o seu elemento será inserido\n",
        "\n",
        "#criar lista vazia\n",
        "lista = []\n",
        "print(\"Lista vazias: \")\n",
        "print(lista)"
      ],
      "execution_count": null,
      "outputs": [
        {
          "output_type": "stream",
          "text": [
            "Lista vazias: \n",
            "[]\n"
          ],
          "name": "stdout"
        }
      ]
    },
    {
      "cell_type": "code",
      "metadata": {
        "id": "T1QTjZQ6tJ-W",
        "colab_type": "code",
        "colab": {
          "base_uri": "https://localhost:8080/",
          "height": 51
        },
        "outputId": "ba27a366-4452-444a-ff05-f7f9fbe7c370"
      },
      "source": [
        "#Adicionando elementos para a lista com append\n",
        "\n",
        "lista.append('Azul')\n",
        "lista.append('Verde')\n",
        "lista.append('Vermelho')\n",
        "lista.append('Verde')\n",
        "print(\"Lista após adicionar as cores: \")\n",
        "print(lista)"
      ],
      "execution_count": null,
      "outputs": [
        {
          "output_type": "stream",
          "text": [
            "Lista após adicionar as cores: \n",
            "['Azul', 'Verde', 'Vermelho', 'Verde']\n"
          ],
          "name": "stdout"
        }
      ]
    },
    {
      "cell_type": "code",
      "metadata": {
        "id": "xjqB1w3xt_KQ",
        "colab_type": "code",
        "colab": {
          "base_uri": "https://localhost:8080/",
          "height": 51
        },
        "outputId": "5d364d42-9a04-4809-ef15-e92fb83d4e87"
      },
      "source": [
        "#Adixionar elemento em uma posição especifica\n",
        "\n",
        "lista.insert(2, 'Preto')\n",
        "lista.insert(0, 'Rosa')\n",
        "print(\"Lista após adicionar elemento em uma posição especifica: \")\n",
        "print(lista)\n"
      ],
      "execution_count": null,
      "outputs": [
        {
          "output_type": "stream",
          "text": [
            "Lista após adicionar elemento em uma posição especifica: \n",
            "['Rosa', 'Azul', 'Verde', 'Preto', 'Vermelho', 'Verde']\n"
          ],
          "name": "stdout"
        }
      ]
    },
    {
      "cell_type": "markdown",
      "metadata": {
        "id": "Psvto1sC8wYI",
        "colab_type": "text"
      },
      "source": [
        "**Adicionando elementos com o método extend() - Adiciona elementos ao final, que nem o append, mas adiciona um conjunto de valores**\n"
      ]
    },
    {
      "cell_type": "code",
      "metadata": {
        "id": "_FFz9hvNu6gj",
        "colab_type": "code",
        "colab": {
          "base_uri": "https://localhost:8080/",
          "height": 51
        },
        "outputId": "ae33bb5f-438d-4a2c-8bbe-93c5a962b9e3"
      },
      "source": [
        "#Adicionando elementos com o método extend() - Adiciona elementos ao final, que nem o append, mas adiciona um conjunto de valores\n",
        "\n",
        "lista.extend(['Branco', '#008000', '#080088'])\n",
        "print(\"Lista após aplicar a operação extend()\")\n",
        "print(lista)"
      ],
      "execution_count": null,
      "outputs": [
        {
          "output_type": "stream",
          "text": [
            "Lista após aplicar a operação extend()\n",
            "['Rosa', 'Azul', 'Verde', 'Preto', 'Vermelho', 'Verde', 'Branco', '#008000', '#080088']\n"
          ],
          "name": "stdout"
        }
      ]
    },
    {
      "cell_type": "markdown",
      "metadata": {
        "id": "cr6q80vw87bC",
        "colab_type": "text"
      },
      "source": [
        "**Acessando Elemtento na Lista**"
      ]
    },
    {
      "cell_type": "code",
      "metadata": {
        "id": "bOSF8V4avuYL",
        "colab_type": "code",
        "colab": {
          "base_uri": "https://localhost:8080/",
          "height": 68
        },
        "outputId": "ae35b19b-d3ce-4759-8ff6-5e8b10f3daac"
      },
      "source": [
        "#Acessando elemtento na lista\n",
        "\n",
        "#Criando uma lista com multiolos valores\n",
        "lista = [\"Azul\", \"Verde\", \"Vermelho\", \"Amarelo\"]\n",
        "\n",
        "#Acessando um alemento da lista\n",
        "print(\"Acessando elemento da lista\")\n",
        "print(lista[0])\n",
        "print(lista[2])\n",
        "\n"
      ],
      "execution_count": null,
      "outputs": [
        {
          "output_type": "stream",
          "text": [
            "Acessando elemento da lista\n",
            "Azul\n",
            "Vermelho\n"
          ],
          "name": "stdout"
        }
      ]
    },
    {
      "cell_type": "markdown",
      "metadata": {
        "id": "Y5J1z33I9JNm",
        "colab_type": "text"
      },
      "source": [
        "**Acessando elementos no \"Sentido contrário**"
      ]
    },
    {
      "cell_type": "code",
      "metadata": {
        "id": "iMLeAQ80w0dX",
        "colab_type": "code",
        "colab": {
          "base_uri": "https://localhost:8080/",
          "height": 68
        },
        "outputId": "4b932d41-3277-466a-9dfa-5f9f45a3dc3c"
      },
      "source": [
        "#Acessando elementos no \"Sentido contrário\"\n",
        "print(\"Acessando elementos no sentido contrário: \")\n",
        "\n",
        "#Ultimo elemento da lista\n",
        "print(lista[-1])\n",
        "\n",
        "#penúltimo elemento da lista\n",
        "print(lista[-2])\n"
      ],
      "execution_count": null,
      "outputs": [
        {
          "output_type": "stream",
          "text": [
            "Acessando elementos no sentido contrário: \n",
            "Amarelo\n",
            "Vermelho\n"
          ],
          "name": "stdout"
        }
      ]
    },
    {
      "cell_type": "markdown",
      "metadata": {
        "id": "rTw8ClrI9Ovh",
        "colab_type": "text"
      },
      "source": [
        "**Acessando valores em listas aninhadas**"
      ]
    },
    {
      "cell_type": "code",
      "metadata": {
        "id": "Pc-t0JMdyEMX",
        "colab_type": "code",
        "colab": {
          "base_uri": "https://localhost:8080/",
          "height": 51
        },
        "outputId": "de5add3a-054e-4897-9c46-d9db1910628a"
      },
      "source": [
        "#Acessando valores em listas aninhadas\n",
        "#criando uma lista aninhada\n",
        "lista = [\"Azul\", \"Verde\", \"Vermelha\", \"Amarelo\", [100,200,300,400]]\n",
        "\n",
        "#Acessando o elemnto 200 da lista\n",
        "print(\"Acessando elementos na lista aninhada\")\n",
        "print(lista[4][1])"
      ],
      "execution_count": null,
      "outputs": [
        {
          "output_type": "stream",
          "text": [
            "Acessando elementos na lista aninhada\n",
            "200\n"
          ],
          "name": "stdout"
        }
      ]
    },
    {
      "cell_type": "markdown",
      "metadata": {
        "id": "1nEiY7ec2qhw",
        "colab_type": "text"
      },
      "source": [
        "**REMOVENDO ELEMENTOS DE UMA LISTA**"
      ]
    },
    {
      "cell_type": "code",
      "metadata": {
        "id": "tigYHW9WzmWM",
        "colab_type": "code",
        "colab": {
          "base_uri": "https://localhost:8080/",
          "height": 51
        },
        "outputId": "1f1b868c-0f4f-4cef-a905-f31cd686118c"
      },
      "source": [
        "#criando uma lista com alguns elementos\n",
        "lista = [1, 2, 3, 4, 5 ,6,\n",
        "         7, 8, 9, 10 ,11, 12, \n",
        "         'Azul', 'Verde', 35, 'Amarelo']\n",
        "print(\"Lista inicial: \")\n",
        "print(lista)"
      ],
      "execution_count": null,
      "outputs": [
        {
          "output_type": "stream",
          "text": [
            "Lista inicial: \n",
            "[1, 2, 3, 4, 5, 6, 7, 8, 9, 10, 11, 12, 'Azul', 'Verde', 35, 'Amarelo']\n"
          ],
          "name": "stdout"
        }
      ]
    },
    {
      "cell_type": "code",
      "metadata": {
        "id": "ZVCE8aCk22XQ",
        "colab_type": "code",
        "colab": {
          "base_uri": "https://localhost:8080/",
          "height": 51
        },
        "outputId": "ca5e5346-3861-4b5c-f0e4-7451545f3f0e"
      },
      "source": [
        "#removendo elementos utilizando o remove\n",
        "lista.remove(5)\n",
        "lista.remove('Verde')\n",
        "print(\"Lista após remover os elementos: \")\n",
        "print(lista)"
      ],
      "execution_count": null,
      "outputs": [
        {
          "output_type": "stream",
          "text": [
            "Lista após remover os elementos: \n",
            "[1, 2, 3, 4, 6, 7, 8, 9, 10, 11, 12, 'Azul', 35, 'Amarelo']\n"
          ],
          "name": "stdout"
        }
      ]
    },
    {
      "cell_type": "code",
      "metadata": {
        "id": "kwo6_Iux2kpu",
        "colab_type": "code",
        "colab": {
          "base_uri": "https://localhost:8080/",
          "height": 51
        },
        "outputId": "3f23917c-4abb-4ee7-e798-8f39641ef2ca"
      },
      "source": [
        "#removendo o ultimo elemento com o pop()\n",
        "lista.pop()\n",
        "print(\"Lista após utilizar o pop(): \")\n",
        "print(lista)\n"
      ],
      "execution_count": null,
      "outputs": [
        {
          "output_type": "stream",
          "text": [
            "Lista após utilizar o pop(): \n",
            "[1, 2, 3, 4, 6, 7, 8, 9, 10, 11, 12, 'Azul', 35]\n"
          ],
          "name": "stdout"
        }
      ]
    },
    {
      "cell_type": "code",
      "metadata": {
        "id": "Z0gpMS4m5qFl",
        "colab_type": "code",
        "colab": {
          "base_uri": "https://localhost:8080/",
          "height": 51
        },
        "outputId": "37735935-dc0b-4b7a-e2d2-9cc516592075"
      },
      "source": [
        "#removendo um elemento de uma posição especifica com pop()\n",
        "lista.pop(11)\n",
        "print(\"Lista após remover um elemento especifico: \")\n",
        "print(lista)"
      ],
      "execution_count": null,
      "outputs": [
        {
          "output_type": "stream",
          "text": [
            "Lista após remover um elemento especifico: \n",
            "[1, 2, 3, 4, 6, 7, 8, 9, 10, 11, 12, 35]\n"
          ],
          "name": "stdout"
        }
      ]
    },
    {
      "cell_type": "markdown",
      "metadata": {
        "id": "Xy9I9_We47Ja",
        "colab_type": "text"
      },
      "source": [
        "O pop(), remove o último elemento da lista quando ele esta sem parametos dentro das () e quando vocês especifica o valor pop(11), no caso o 11 não é o numero e sim a posição"
      ]
    }
  ]
}