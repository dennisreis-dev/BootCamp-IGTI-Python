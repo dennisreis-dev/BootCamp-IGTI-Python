{
  "nbformat": 4,
  "nbformat_minor": 0,
  "metadata": {
    "colab": {
      "name": "Introdução a Estruturas de Repetição.ipynb",
      "provenance": [],
      "authorship_tag": "ABX9TyN/3YBiqiXttrOoGEbV4grD",
      "include_colab_link": true
    },
    "kernelspec": {
      "name": "python3",
      "display_name": "Python 3"
    }
  },
  "cells": [
    {
      "cell_type": "markdown",
      "metadata": {
        "id": "view-in-github",
        "colab_type": "text"
      },
      "source": [
        "<a href=\"https://colab.research.google.com/github/dennisreis-dev/IGTI-Python/blob/master/Introdu%C3%A7%C3%A3o_a_Estruturas_de_Repeti%C3%A7%C3%A3o.ipynb\" target=\"_parent\"><img src=\"https://colab.research.google.com/assets/colab-badge.svg\" alt=\"Open In Colab\"/></a>"
      ]
    },
    {
      "cell_type": "markdown",
      "metadata": {
        "id": "4Q2L2DNRYa3X"
      },
      "source": [
        "**Introdução a Estruturas de Repetição**"
      ]
    },
    {
      "cell_type": "markdown",
      "metadata": {
        "id": "2JOJCQIHaeQd"
      },
      "source": [
        ""
      ]
    },
    {
      "cell_type": "markdown",
      "metadata": {
        "id": "p9zPhIa3Z2fp"
      },
      "source": [
        "**Faça isso de novo...Faça isso até...Repita mais x vezes...**"
      ]
    },
    {
      "cell_type": "markdown",
      "metadata": {
        "id": "zMBmvL86amvJ"
      },
      "source": [
        "* **.......**\n",
        "* **upper() - CAIXA ALTA**\n",
        "* **lower() - caixa baixa**\n",
        "* **strip() - Divisão da String**\n",
        "* **.......**\n",
        "\n",
        "\n",
        "\n",
        "\n",
        "\n",
        "\n",
        "\n",
        "\n"
      ]
    },
    {
      "cell_type": "markdown",
      "metadata": {
        "id": "cH_3Q1c5YuBe"
      },
      "source": [
        "***O que são Objetos***"
      ]
    },
    {
      "cell_type": "code",
      "metadata": {
        "id": "l3FyB2LgYWcw"
      },
      "source": [
        "s=\"Como vai você?\""
      ],
      "execution_count": null,
      "outputs": []
    },
    {
      "cell_type": "code",
      "metadata": {
        "id": "HssLeo7MY3Xm",
        "outputId": "7bf62475-bb6a-489c-bde0-d8442bd53868",
        "colab": {
          "base_uri": "https://localhost:8080/",
          "height": 34
        }
      },
      "source": [
        "type(s) #todo tipo corresponde a uma classe"
      ],
      "execution_count": null,
      "outputs": [
        {
          "output_type": "execute_result",
          "data": {
            "text/plain": [
              "str"
            ]
          },
          "metadata": {
            "tags": []
          },
          "execution_count": 3
        }
      ]
    },
    {
      "cell_type": "markdown",
      "metadata": {
        "id": "mb2ICIDSZE5L"
      },
      "source": [
        "***Tudo em Python são objetos***"
      ]
    },
    {
      "cell_type": "markdown",
      "metadata": {
        "id": "mV_cFSkScACm"
      },
      "source": [
        "***referencia_ao_objeto.metodo(argumentos)***"
      ]
    },
    {
      "cell_type": "code",
      "metadata": {
        "id": "FU-AqRnUZKtG",
        "outputId": "0b823429-1d7b-4535-8acf-82884afd052e",
        "colab": {
          "base_uri": "https://localhost:8080/",
          "height": 34
        }
      },
      "source": [
        "#definimos o objeto string\n",
        "s=\"COMO VAI VOCÊ?\"\n",
        "nova_string=s.lower()\n",
        "print(nova_string)"
      ],
      "execution_count": null,
      "outputs": [
        {
          "output_type": "stream",
          "text": [
            "como vai você?\n"
          ],
          "name": "stdout"
        }
      ]
    },
    {
      "cell_type": "code",
      "metadata": {
        "id": "IlHS-M5XZjls",
        "outputId": "0a69620a-2051-4af6-cdd0-7b77aedf4276",
        "colab": {
          "base_uri": "https://localhost:8080/",
          "height": 1000
        }
      },
      "source": [
        "help(str)"
      ],
      "execution_count": null,
      "outputs": [
        {
          "output_type": "stream",
          "text": [
            "Help on class str in module builtins:\n",
            "\n",
            "class str(object)\n",
            " |  str(object='') -> str\n",
            " |  str(bytes_or_buffer[, encoding[, errors]]) -> str\n",
            " |  \n",
            " |  Create a new string object from the given object. If encoding or\n",
            " |  errors is specified, then the object must expose a data buffer\n",
            " |  that will be decoded using the given encoding and error handler.\n",
            " |  Otherwise, returns the result of object.__str__() (if defined)\n",
            " |  or repr(object).\n",
            " |  encoding defaults to sys.getdefaultencoding().\n",
            " |  errors defaults to 'strict'.\n",
            " |  \n",
            " |  Methods defined here:\n",
            " |  \n",
            " |  __add__(self, value, /)\n",
            " |      Return self+value.\n",
            " |  \n",
            " |  __contains__(self, key, /)\n",
            " |      Return key in self.\n",
            " |  \n",
            " |  __eq__(self, value, /)\n",
            " |      Return self==value.\n",
            " |  \n",
            " |  __format__(...)\n",
            " |      S.__format__(format_spec) -> str\n",
            " |      \n",
            " |      Return a formatted version of S as described by format_spec.\n",
            " |  \n",
            " |  __ge__(self, value, /)\n",
            " |      Return self>=value.\n",
            " |  \n",
            " |  __getattribute__(self, name, /)\n",
            " |      Return getattr(self, name).\n",
            " |  \n",
            " |  __getitem__(self, key, /)\n",
            " |      Return self[key].\n",
            " |  \n",
            " |  __getnewargs__(...)\n",
            " |  \n",
            " |  __gt__(self, value, /)\n",
            " |      Return self>value.\n",
            " |  \n",
            " |  __hash__(self, /)\n",
            " |      Return hash(self).\n",
            " |  \n",
            " |  __iter__(self, /)\n",
            " |      Implement iter(self).\n",
            " |  \n",
            " |  __le__(self, value, /)\n",
            " |      Return self<=value.\n",
            " |  \n",
            " |  __len__(self, /)\n",
            " |      Return len(self).\n",
            " |  \n",
            " |  __lt__(self, value, /)\n",
            " |      Return self<value.\n",
            " |  \n",
            " |  __mod__(self, value, /)\n",
            " |      Return self%value.\n",
            " |  \n",
            " |  __mul__(self, value, /)\n",
            " |      Return self*value.\n",
            " |  \n",
            " |  __ne__(self, value, /)\n",
            " |      Return self!=value.\n",
            " |  \n",
            " |  __new__(*args, **kwargs) from builtins.type\n",
            " |      Create and return a new object.  See help(type) for accurate signature.\n",
            " |  \n",
            " |  __repr__(self, /)\n",
            " |      Return repr(self).\n",
            " |  \n",
            " |  __rmod__(self, value, /)\n",
            " |      Return value%self.\n",
            " |  \n",
            " |  __rmul__(self, value, /)\n",
            " |      Return value*self.\n",
            " |  \n",
            " |  __sizeof__(...)\n",
            " |      S.__sizeof__() -> size of S in memory, in bytes\n",
            " |  \n",
            " |  __str__(self, /)\n",
            " |      Return str(self).\n",
            " |  \n",
            " |  capitalize(...)\n",
            " |      S.capitalize() -> str\n",
            " |      \n",
            " |      Return a capitalized version of S, i.e. make the first character\n",
            " |      have upper case and the rest lower case.\n",
            " |  \n",
            " |  casefold(...)\n",
            " |      S.casefold() -> str\n",
            " |      \n",
            " |      Return a version of S suitable for caseless comparisons.\n",
            " |  \n",
            " |  center(...)\n",
            " |      S.center(width[, fillchar]) -> str\n",
            " |      \n",
            " |      Return S centered in a string of length width. Padding is\n",
            " |      done using the specified fill character (default is a space)\n",
            " |  \n",
            " |  count(...)\n",
            " |      S.count(sub[, start[, end]]) -> int\n",
            " |      \n",
            " |      Return the number of non-overlapping occurrences of substring sub in\n",
            " |      string S[start:end].  Optional arguments start and end are\n",
            " |      interpreted as in slice notation.\n",
            " |  \n",
            " |  encode(...)\n",
            " |      S.encode(encoding='utf-8', errors='strict') -> bytes\n",
            " |      \n",
            " |      Encode S using the codec registered for encoding. Default encoding\n",
            " |      is 'utf-8'. errors may be given to set a different error\n",
            " |      handling scheme. Default is 'strict' meaning that encoding errors raise\n",
            " |      a UnicodeEncodeError. Other possible values are 'ignore', 'replace' and\n",
            " |      'xmlcharrefreplace' as well as any other name registered with\n",
            " |      codecs.register_error that can handle UnicodeEncodeErrors.\n",
            " |  \n",
            " |  endswith(...)\n",
            " |      S.endswith(suffix[, start[, end]]) -> bool\n",
            " |      \n",
            " |      Return True if S ends with the specified suffix, False otherwise.\n",
            " |      With optional start, test S beginning at that position.\n",
            " |      With optional end, stop comparing S at that position.\n",
            " |      suffix can also be a tuple of strings to try.\n",
            " |  \n",
            " |  expandtabs(...)\n",
            " |      S.expandtabs(tabsize=8) -> str\n",
            " |      \n",
            " |      Return a copy of S where all tab characters are expanded using spaces.\n",
            " |      If tabsize is not given, a tab size of 8 characters is assumed.\n",
            " |  \n",
            " |  find(...)\n",
            " |      S.find(sub[, start[, end]]) -> int\n",
            " |      \n",
            " |      Return the lowest index in S where substring sub is found,\n",
            " |      such that sub is contained within S[start:end].  Optional\n",
            " |      arguments start and end are interpreted as in slice notation.\n",
            " |      \n",
            " |      Return -1 on failure.\n",
            " |  \n",
            " |  format(...)\n",
            " |      S.format(*args, **kwargs) -> str\n",
            " |      \n",
            " |      Return a formatted version of S, using substitutions from args and kwargs.\n",
            " |      The substitutions are identified by braces ('{' and '}').\n",
            " |  \n",
            " |  format_map(...)\n",
            " |      S.format_map(mapping) -> str\n",
            " |      \n",
            " |      Return a formatted version of S, using substitutions from mapping.\n",
            " |      The substitutions are identified by braces ('{' and '}').\n",
            " |  \n",
            " |  index(...)\n",
            " |      S.index(sub[, start[, end]]) -> int\n",
            " |      \n",
            " |      Return the lowest index in S where substring sub is found, \n",
            " |      such that sub is contained within S[start:end].  Optional\n",
            " |      arguments start and end are interpreted as in slice notation.\n",
            " |      \n",
            " |      Raises ValueError when the substring is not found.\n",
            " |  \n",
            " |  isalnum(...)\n",
            " |      S.isalnum() -> bool\n",
            " |      \n",
            " |      Return True if all characters in S are alphanumeric\n",
            " |      and there is at least one character in S, False otherwise.\n",
            " |  \n",
            " |  isalpha(...)\n",
            " |      S.isalpha() -> bool\n",
            " |      \n",
            " |      Return True if all characters in S are alphabetic\n",
            " |      and there is at least one character in S, False otherwise.\n",
            " |  \n",
            " |  isdecimal(...)\n",
            " |      S.isdecimal() -> bool\n",
            " |      \n",
            " |      Return True if there are only decimal characters in S,\n",
            " |      False otherwise.\n",
            " |  \n",
            " |  isdigit(...)\n",
            " |      S.isdigit() -> bool\n",
            " |      \n",
            " |      Return True if all characters in S are digits\n",
            " |      and there is at least one character in S, False otherwise.\n",
            " |  \n",
            " |  isidentifier(...)\n",
            " |      S.isidentifier() -> bool\n",
            " |      \n",
            " |      Return True if S is a valid identifier according\n",
            " |      to the language definition.\n",
            " |      \n",
            " |      Use keyword.iskeyword() to test for reserved identifiers\n",
            " |      such as \"def\" and \"class\".\n",
            " |  \n",
            " |  islower(...)\n",
            " |      S.islower() -> bool\n",
            " |      \n",
            " |      Return True if all cased characters in S are lowercase and there is\n",
            " |      at least one cased character in S, False otherwise.\n",
            " |  \n",
            " |  isnumeric(...)\n",
            " |      S.isnumeric() -> bool\n",
            " |      \n",
            " |      Return True if there are only numeric characters in S,\n",
            " |      False otherwise.\n",
            " |  \n",
            " |  isprintable(...)\n",
            " |      S.isprintable() -> bool\n",
            " |      \n",
            " |      Return True if all characters in S are considered\n",
            " |      printable in repr() or S is empty, False otherwise.\n",
            " |  \n",
            " |  isspace(...)\n",
            " |      S.isspace() -> bool\n",
            " |      \n",
            " |      Return True if all characters in S are whitespace\n",
            " |      and there is at least one character in S, False otherwise.\n",
            " |  \n",
            " |  istitle(...)\n",
            " |      S.istitle() -> bool\n",
            " |      \n",
            " |      Return True if S is a titlecased string and there is at least one\n",
            " |      character in S, i.e. upper- and titlecase characters may only\n",
            " |      follow uncased characters and lowercase characters only cased ones.\n",
            " |      Return False otherwise.\n",
            " |  \n",
            " |  isupper(...)\n",
            " |      S.isupper() -> bool\n",
            " |      \n",
            " |      Return True if all cased characters in S are uppercase and there is\n",
            " |      at least one cased character in S, False otherwise.\n",
            " |  \n",
            " |  join(...)\n",
            " |      S.join(iterable) -> str\n",
            " |      \n",
            " |      Return a string which is the concatenation of the strings in the\n",
            " |      iterable.  The separator between elements is S.\n",
            " |  \n",
            " |  ljust(...)\n",
            " |      S.ljust(width[, fillchar]) -> str\n",
            " |      \n",
            " |      Return S left-justified in a Unicode string of length width. Padding is\n",
            " |      done using the specified fill character (default is a space).\n",
            " |  \n",
            " |  lower(...)\n",
            " |      S.lower() -> str\n",
            " |      \n",
            " |      Return a copy of the string S converted to lowercase.\n",
            " |  \n",
            " |  lstrip(...)\n",
            " |      S.lstrip([chars]) -> str\n",
            " |      \n",
            " |      Return a copy of the string S with leading whitespace removed.\n",
            " |      If chars is given and not None, remove characters in chars instead.\n",
            " |  \n",
            " |  partition(...)\n",
            " |      S.partition(sep) -> (head, sep, tail)\n",
            " |      \n",
            " |      Search for the separator sep in S, and return the part before it,\n",
            " |      the separator itself, and the part after it.  If the separator is not\n",
            " |      found, return S and two empty strings.\n",
            " |  \n",
            " |  replace(...)\n",
            " |      S.replace(old, new[, count]) -> str\n",
            " |      \n",
            " |      Return a copy of S with all occurrences of substring\n",
            " |      old replaced by new.  If the optional argument count is\n",
            " |      given, only the first count occurrences are replaced.\n",
            " |  \n",
            " |  rfind(...)\n",
            " |      S.rfind(sub[, start[, end]]) -> int\n",
            " |      \n",
            " |      Return the highest index in S where substring sub is found,\n",
            " |      such that sub is contained within S[start:end].  Optional\n",
            " |      arguments start and end are interpreted as in slice notation.\n",
            " |      \n",
            " |      Return -1 on failure.\n",
            " |  \n",
            " |  rindex(...)\n",
            " |      S.rindex(sub[, start[, end]]) -> int\n",
            " |      \n",
            " |      Return the highest index in S where substring sub is found,\n",
            " |      such that sub is contained within S[start:end].  Optional\n",
            " |      arguments start and end are interpreted as in slice notation.\n",
            " |      \n",
            " |      Raises ValueError when the substring is not found.\n",
            " |  \n",
            " |  rjust(...)\n",
            " |      S.rjust(width[, fillchar]) -> str\n",
            " |      \n",
            " |      Return S right-justified in a string of length width. Padding is\n",
            " |      done using the specified fill character (default is a space).\n",
            " |  \n",
            " |  rpartition(...)\n",
            " |      S.rpartition(sep) -> (head, sep, tail)\n",
            " |      \n",
            " |      Search for the separator sep in S, starting at the end of S, and return\n",
            " |      the part before it, the separator itself, and the part after it.  If the\n",
            " |      separator is not found, return two empty strings and S.\n",
            " |  \n",
            " |  rsplit(...)\n",
            " |      S.rsplit(sep=None, maxsplit=-1) -> list of strings\n",
            " |      \n",
            " |      Return a list of the words in S, using sep as the\n",
            " |      delimiter string, starting at the end of the string and\n",
            " |      working to the front.  If maxsplit is given, at most maxsplit\n",
            " |      splits are done. If sep is not specified, any whitespace string\n",
            " |      is a separator.\n",
            " |  \n",
            " |  rstrip(...)\n",
            " |      S.rstrip([chars]) -> str\n",
            " |      \n",
            " |      Return a copy of the string S with trailing whitespace removed.\n",
            " |      If chars is given and not None, remove characters in chars instead.\n",
            " |  \n",
            " |  split(...)\n",
            " |      S.split(sep=None, maxsplit=-1) -> list of strings\n",
            " |      \n",
            " |      Return a list of the words in S, using sep as the\n",
            " |      delimiter string.  If maxsplit is given, at most maxsplit\n",
            " |      splits are done. If sep is not specified or is None, any\n",
            " |      whitespace string is a separator and empty strings are\n",
            " |      removed from the result.\n",
            " |  \n",
            " |  splitlines(...)\n",
            " |      S.splitlines([keepends]) -> list of strings\n",
            " |      \n",
            " |      Return a list of the lines in S, breaking at line boundaries.\n",
            " |      Line breaks are not included in the resulting list unless keepends\n",
            " |      is given and true.\n",
            " |  \n",
            " |  startswith(...)\n",
            " |      S.startswith(prefix[, start[, end]]) -> bool\n",
            " |      \n",
            " |      Return True if S starts with the specified prefix, False otherwise.\n",
            " |      With optional start, test S beginning at that position.\n",
            " |      With optional end, stop comparing S at that position.\n",
            " |      prefix can also be a tuple of strings to try.\n",
            " |  \n",
            " |  strip(...)\n",
            " |      S.strip([chars]) -> str\n",
            " |      \n",
            " |      Return a copy of the string S with leading and trailing\n",
            " |      whitespace removed.\n",
            " |      If chars is given and not None, remove characters in chars instead.\n",
            " |  \n",
            " |  swapcase(...)\n",
            " |      S.swapcase() -> str\n",
            " |      \n",
            " |      Return a copy of S with uppercase characters converted to lowercase\n",
            " |      and vice versa.\n",
            " |  \n",
            " |  title(...)\n",
            " |      S.title() -> str\n",
            " |      \n",
            " |      Return a titlecased version of S, i.e. words start with title case\n",
            " |      characters, all remaining cased characters have lower case.\n",
            " |  \n",
            " |  translate(...)\n",
            " |      S.translate(table) -> str\n",
            " |      \n",
            " |      Return a copy of the string S in which each character has been mapped\n",
            " |      through the given translation table. The table must implement\n",
            " |      lookup/indexing via __getitem__, for instance a dictionary or list,\n",
            " |      mapping Unicode ordinals to Unicode ordinals, strings, or None. If\n",
            " |      this operation raises LookupError, the character is left untouched.\n",
            " |      Characters mapped to None are deleted.\n",
            " |  \n",
            " |  upper(...)\n",
            " |      S.upper() -> str\n",
            " |      \n",
            " |      Return a copy of S converted to uppercase.\n",
            " |  \n",
            " |  zfill(...)\n",
            " |      S.zfill(width) -> str\n",
            " |      \n",
            " |      Pad a numeric string S with zeros on the left, to fill a field\n",
            " |      of the specified width. The string S is never truncated.\n",
            " |  \n",
            " |  ----------------------------------------------------------------------\n",
            " |  Static methods defined here:\n",
            " |  \n",
            " |  maketrans(x, y=None, z=None, /)\n",
            " |      Return a translation table usable for str.translate().\n",
            " |      \n",
            " |      If there is only one argument, it must be a dictionary mapping Unicode\n",
            " |      ordinals (integers) or characters to Unicode ordinals, strings or None.\n",
            " |      Character keys will be then converted to ordinals.\n",
            " |      If there are two arguments, they must be strings of equal length, and\n",
            " |      in the resulting dictionary, each character in x will be mapped to the\n",
            " |      character at the same position in y. If there is a third argument, it\n",
            " |      must be a string, whose characters will be mapped to None in the result.\n",
            "\n"
          ],
          "name": "stdout"
        }
      ]
    },
    {
      "cell_type": "markdown",
      "metadata": {
        "id": "hL1AIsEVffOt"
      },
      "source": [
        "**Operadores com as strings - Método Implícitos**"
      ]
    },
    {
      "cell_type": "code",
      "metadata": {
        "id": "D7XPmDSWf2i5",
        "outputId": "7391580a-1bdc-4928-8fde-918930d5ac38",
        "colab": {
          "base_uri": "https://localhost:8080/",
          "height": 70
        }
      },
      "source": [
        "#Lista\n",
        "s=input(\"Entre como seu nome: \")\n",
        "t=input(\"Entre com o nome da sua mãe: \")\n",
        "if s<=t:\n",
        "  print(\"Seu nome vem antes do que o da sua mãe.\")\n",
        "else:\n",
        "  print(\"Seu nome vem depois do que o da sua mãe.\")"
      ],
      "execution_count": null,
      "outputs": [
        {
          "output_type": "stream",
          "text": [
            "Entre como seu nome: João Joaquim Manoel\n",
            "Entre com o nome da sua mãe: Joana Joaquina Manuela\n",
            "Seu nome vem depois do que o da sua mãe.\n"
          ],
          "name": "stdout"
        }
      ]
    },
    {
      "cell_type": "code",
      "metadata": {
        "id": "yagQ6eVqgoSE",
        "outputId": "deef00c8-f807-412c-fb8b-4e0cbf382765",
        "colab": {
          "base_uri": "https://localhost:8080/",
          "height": 70
        }
      },
      "source": [
        "#Lista\n",
        "s=input(\"Entre como seu nome: \")\n",
        "t=input(\"Entre com o nome da sua mãe: \")\n",
        "if s.__le__(t):\n",
        "  print(\"Seu nome vem antes do que o da sua mãe.\")\n",
        "else:\n",
        "  print(\"Seu nome vem depois do que o da sua mãe.\")"
      ],
      "execution_count": null,
      "outputs": [
        {
          "output_type": "stream",
          "text": [
            "Entre como seu nome: Mario\n",
            "Entre com o nome da sua mãe: Ana\n",
            "Seu nome vem depois do que o da sua mãe.\n"
          ],
          "name": "stdout"
        }
      ]
    },
    {
      "cell_type": "markdown",
      "metadata": {
        "id": "G7ylWRfrhtmI"
      },
      "source": [
        "**Estrutura de Repetição: For**"
      ]
    },
    {
      "cell_type": "code",
      "metadata": {
        "id": "Fj50PjhTh0Tc",
        "outputId": "1e8adc43-b34c-4bd4-d74d-c51f7f41e430",
        "colab": {
          "base_uri": "https://localhost:8080/",
          "height": 422
        }
      },
      "source": [
        "#Vamos testar o código\n",
        "string =input(\"Entre com uma seguencia de caracteres.\")\n",
        "for caracteres in string:\n",
        "    print(caracteres)\n",
        "print(\"----FIM----\")"
      ],
      "execution_count": 1,
      "outputs": [
        {
          "output_type": "stream",
          "text": [
            "Entre com uma seguencia de caracteres.Timão Campeão Mundial\n",
            "T\n",
            "i\n",
            "m\n",
            "ã\n",
            "o\n",
            " \n",
            "C\n",
            "a\n",
            "m\n",
            "p\n",
            "e\n",
            "ã\n",
            "o\n",
            " \n",
            "M\n",
            "u\n",
            "n\n",
            "d\n",
            "i\n",
            "a\n",
            "l\n",
            "----FIM----\n"
          ],
          "name": "stdout"
        }
      ]
    },
    {
      "cell_type": "markdown",
      "metadata": {
        "id": "QwiOjfciOdWB"
      },
      "source": [
        "**Usando o upper(), para deixar a frase em CAIXA ALTA**"
      ]
    },
    {
      "cell_type": "code",
      "metadata": {
        "id": "xG0ANvk3OnZ1",
        "outputId": "bf66346b-3e79-4fb0-d8f2-15c593a7dce2",
        "colab": {
          "base_uri": "https://localhost:8080/",
          "height": 545
        }
      },
      "source": [
        "#Vamos testar o código\n",
        "string =input(\"Entre com uma seguencia de caracteres.\")\n",
        "for caracteres in string:\n",
        "    print(caracteres.upper())\n",
        "print(\"----FIM----\")"
      ],
      "execution_count": 2,
      "outputs": [
        {
          "output_type": "stream",
          "text": [
            "Entre com uma seguencia de caracteres.palmeiras não tem mundial!!!\n",
            "P\n",
            "A\n",
            "L\n",
            "M\n",
            "E\n",
            "I\n",
            "R\n",
            "A\n",
            "S\n",
            " \n",
            "N\n",
            "Ã\n",
            "O\n",
            " \n",
            "T\n",
            "E\n",
            "M\n",
            " \n",
            "M\n",
            "U\n",
            "N\n",
            "D\n",
            "I\n",
            "A\n",
            "L\n",
            "!\n",
            "!\n",
            "!\n",
            "----FIM----\n"
          ],
          "name": "stdout"
        }
      ]
    },
    {
      "cell_type": "markdown",
      "metadata": {
        "id": "c-ytmSBcPdhr"
      },
      "source": [
        "**Listas também são uma sequência**"
      ]
    },
    {
      "cell_type": "code",
      "metadata": {
        "id": "UxrlcgDXPeP1",
        "outputId": "b6fb00e8-ed29-4f18-a1d6-05fecc467a01",
        "colab": {
          "base_uri": "https://localhost:8080/",
          "height": 105
        }
      },
      "source": [
        "#mostrando a iteração sobre uma lista de elementos em python\n",
        "lista=['IGTI', \"BootCamp\", \"Python\", 2020]\n",
        "for elemento in lista:\n",
        "    print(elemento)\n",
        "print(\"----FIM----\")\n"
      ],
      "execution_count": 6,
      "outputs": [
        {
          "output_type": "stream",
          "text": [
            "IGTI\n",
            "BootCamp\n",
            "Python\n",
            "2020\n",
            "----FIM----\n"
          ],
          "name": "stdout"
        }
      ]
    },
    {
      "cell_type": "code",
      "metadata": {
        "id": "--MUzHJRQSFk",
        "outputId": "e47ecf4f-b469-4884-935c-6f8d45424da9",
        "colab": {
          "base_uri": "https://localhost:8080/",
          "height": 193
        }
      },
      "source": [
        "#Lista numérica\n",
        "lista=[1,2,3,4,5,6,7,8,9]\n",
        "for elemento in lista:\n",
        "    print(elemento)\n",
        "print(\"----FIM----\")"
      ],
      "execution_count": 5,
      "outputs": [
        {
          "output_type": "stream",
          "text": [
            "1\n",
            "2\n",
            "3\n",
            "4\n",
            "5\n",
            "6\n",
            "7\n",
            "8\n",
            "9\n",
            "----FIM----\n"
          ],
          "name": "stdout"
        }
      ]
    },
    {
      "cell_type": "markdown",
      "metadata": {
        "id": "8I6qI6EhRs3q"
      },
      "source": [
        "**A função range( ), muito usado nas estruturas de repetições**"
      ]
    },
    {
      "cell_type": "code",
      "metadata": {
        "id": "vktwcPyuQ3RO",
        "outputId": "15915935-7db9-4749-877e-e1238ed09f14",
        "colab": {
          "base_uri": "https://localhost:8080/",
          "height": 175
        }
      },
      "source": [
        "#a função rang(), assim como todos os indices começa em 0 e termina em n-1\n",
        "for i in range(8):\n",
        "    print(i)\n",
        "print(\"----FIM----\")"
      ],
      "execution_count": 7,
      "outputs": [
        {
          "output_type": "stream",
          "text": [
            "0\n",
            "1\n",
            "2\n",
            "3\n",
            "4\n",
            "5\n",
            "6\n",
            "7\n",
            "----FIM----\n"
          ],
          "name": "stdout"
        }
      ]
    },
    {
      "cell_type": "code",
      "metadata": {
        "id": "TaB7rDjgSitf",
        "outputId": "4fd00824-e4e6-4d91-8b95-6cb0e4c69e05",
        "colab": {
          "base_uri": "https://localhost:8080/",
          "height": 34
        }
      },
      "source": [
        "#Tipo de objeto range\n",
        "type(range(8))\n"
      ],
      "execution_count": 8,
      "outputs": [
        {
          "output_type": "execute_result",
          "data": {
            "text/plain": [
              "range"
            ]
          },
          "metadata": {
            "tags": []
          },
          "execution_count": 8
        }
      ]
    },
    {
      "cell_type": "code",
      "metadata": {
        "id": "Onqf2QMzS0aq",
        "outputId": "70aa6eff-4863-4baa-d24e-f97ac34f4749",
        "colab": {
          "base_uri": "https://localhost:8080/",
          "height": 193
        }
      },
      "source": [
        "#definindo intervalos com o range\n",
        "for i in range(1,10): #n-1\n",
        "    print(i)\n",
        "print(\"----FIM----\")"
      ],
      "execution_count": 13,
      "outputs": [
        {
          "output_type": "stream",
          "text": [
            "1\n",
            "2\n",
            "3\n",
            "4\n",
            "5\n",
            "6\n",
            "7\n",
            "8\n",
            "9\n",
            "----FIM----\n"
          ],
          "name": "stdout"
        }
      ]
    },
    {
      "cell_type": "code",
      "metadata": {
        "id": "VlUW87xDUA1y",
        "outputId": "e6abd20e-8ce3-4460-c566-815ee5bb46bf",
        "colab": {
          "base_uri": "https://localhost:8080/",
          "height": 193
        }
      },
      "source": [
        "#definindo intervalos com o range(inicio, parada, incremento)\n",
        "for i in range(1,10,1):#o número final é o incremento de 1 a 1 ou de 2 a 2\n",
        "    print(i)\n",
        "print(\"----FIM----\")"
      ],
      "execution_count": 17,
      "outputs": [
        {
          "output_type": "stream",
          "text": [
            "1\n",
            "2\n",
            "3\n",
            "4\n",
            "5\n",
            "6\n",
            "7\n",
            "8\n",
            "9\n",
            "----FIM----\n"
          ],
          "name": "stdout"
        }
      ]
    },
    {
      "cell_type": "code",
      "metadata": {
        "id": "tHrA5g-FUufR",
        "outputId": "5e7c7809-bf19-4394-ca49-0de1e64e34d7",
        "colab": {
          "base_uri": "https://localhost:8080/",
          "height": 122
        }
      },
      "source": [
        "#definindo intervalos com o range(inicio, parada, incremento)\n",
        "for i in range(1,10,2):#o número final é o incremento de 1 a 1 ou de 2 a 2\n",
        "    print(i)\n",
        "print(\"----FIM----\")"
      ],
      "execution_count": 18,
      "outputs": [
        {
          "output_type": "stream",
          "text": [
            "1\n",
            "3\n",
            "5\n",
            "7\n",
            "9\n",
            "----FIM----\n"
          ],
          "name": "stdout"
        }
      ]
    },
    {
      "cell_type": "code",
      "metadata": {
        "id": "c2QNkov6Uyxd",
        "outputId": "1b854fbf-9299-4d56-b366-7878a2346b2d",
        "colab": {
          "base_uri": "https://localhost:8080/",
          "height": 210
        }
      },
      "source": [
        "#definindo intervalos com o range(inicio, parada, decremento)\n",
        "for i in range(10,0,-1):#o número final é para ordem decrecente\n",
        "    print(i)\n",
        "print(\"----FIM----\")"
      ],
      "execution_count": 20,
      "outputs": [
        {
          "output_type": "stream",
          "text": [
            "10\n",
            "9\n",
            "8\n",
            "7\n",
            "6\n",
            "5\n",
            "4\n",
            "3\n",
            "2\n",
            "1\n",
            "----FIM----\n"
          ],
          "name": "stdout"
        }
      ]
    },
    {
      "cell_type": "code",
      "metadata": {
        "id": "BV_V-eehV9Ow"
      },
      "source": [
        ""
      ],
      "execution_count": null,
      "outputs": []
    },
    {
      "cell_type": "code",
      "metadata": {
        "id": "yHu6zYvsVNcT",
        "outputId": "43e69696-1795-4b0f-9a53-508513377742",
        "colab": {
          "base_uri": "https://localhost:8080/",
          "height": 492
        }
      },
      "source": [
        "#verificando os indices em uma string\n",
        "string=input(\"Entre com alguma string: \")\n",
        "for caracter in range(len(string)):# o len dar o comprimento da string\n",
        "    print(string[caracter])\n",
        "print(\"----FIM----\") "
      ],
      "execution_count": 23,
      "outputs": [
        {
          "output_type": "stream",
          "text": [
            "Entre com alguma string: Palmeiras Não Tem Mundial\n",
            "P\n",
            "a\n",
            "l\n",
            "m\n",
            "e\n",
            "i\n",
            "r\n",
            "a\n",
            "s\n",
            " \n",
            "N\n",
            "ã\n",
            "o\n",
            " \n",
            "T\n",
            "e\n",
            "m\n",
            " \n",
            "M\n",
            "u\n",
            "n\n",
            "d\n",
            "i\n",
            "a\n",
            "l\n",
            "----FIM----\n"
          ],
          "name": "stdout"
        }
      ]
    },
    {
      "cell_type": "code",
      "metadata": {
        "id": "4FXmV8TXWRUq",
        "outputId": "558de57a-d290-4cb8-c743-af6a8f6d079c",
        "colab": {
          "base_uri": "https://localhost:8080/",
          "height": 34
        }
      },
      "source": [
        "len(string)"
      ],
      "execution_count": 24,
      "outputs": [
        {
          "output_type": "execute_result",
          "data": {
            "text/plain": [
              "25"
            ]
          },
          "metadata": {
            "tags": []
          },
          "execution_count": 24
        }
      ]
    },
    {
      "cell_type": "code",
      "metadata": {
        "id": "qMr6emW0W9TR",
        "outputId": "1d06a011-0241-47f0-b971-46503af43d6b",
        "colab": {
          "base_uri": "https://localhost:8080/",
          "height": 52
        }
      },
      "source": [
        "#Realizando o print de trá para frente\n",
        "string=input(\"Entre com alguma string: \")\n",
        "for caracter in range(len(string)-1,-1-1):\n",
        "    print(string[caracter])\n",
        "print(\"----FIM----\") "
      ],
      "execution_count": 30,
      "outputs": [
        {
          "output_type": "stream",
          "text": [
            "Entre com alguma string: assim\n",
            "----FIM----\n"
          ],
          "name": "stdout"
        }
      ]
    },
    {
      "cell_type": "code",
      "metadata": {
        "id": "HMIyQ8flYoje",
        "outputId": "4382b132-b35f-49ab-8082-9f27da95f2b0",
        "colab": {
          "base_uri": "https://localhost:8080/",
          "height": 175
        }
      },
      "source": [
        "#realizando o print de cada uma das palavras em uma string com  método split()\n",
        "string=\"Eu estou estudando Python no bootcampo da IGTI\"\n",
        "for palavras in string.split():\n",
        "    print(palavras)\n",
        "print(\"----FIM----\")"
      ],
      "execution_count": 31,
      "outputs": [
        {
          "output_type": "stream",
          "text": [
            "Eu\n",
            "estou\n",
            "estudando\n",
            "Python\n",
            "no\n",
            "bootcampo\n",
            "da\n",
            "IGTI\n",
            "----FIM----\n"
          ],
          "name": "stdout"
        }
      ]
    },
    {
      "cell_type": "code",
      "metadata": {
        "id": "clVpTalgZXep",
        "outputId": "335c3bda-f28d-4f82-97d9-fb09748edb0d",
        "colab": {
          "base_uri": "https://localhost:8080/",
          "height": 34
        }
      },
      "source": [
        "type(string.split())"
      ],
      "execution_count": 32,
      "outputs": [
        {
          "output_type": "execute_result",
          "data": {
            "text/plain": [
              "list"
            ]
          },
          "metadata": {
            "tags": []
          },
          "execution_count": 32
        }
      ]
    },
    {
      "cell_type": "markdown",
      "metadata": {
        "id": "sCp4O3j-Zlt6"
      },
      "source": [
        "**O operador \"in\" para uma sequência"
      ]
    },
    {
      "cell_type": "code",
      "metadata": {
        "id": "I1oOULncZr5P"
      },
      "source": [
        "#lista de compras\n",
        "lista_de_compras=['detergente',]"
      ],
      "execution_count": null,
      "outputs": []
    }
  ]
}