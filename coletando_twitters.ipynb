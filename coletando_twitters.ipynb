{
  "nbformat": 4,
  "nbformat_minor": 0,
  "metadata": {
    "colab": {
      "name": "coletando_twitters.ipynb",
      "provenance": []
    },
    "kernelspec": {
      "name": "python3",
      "display_name": "Python 3"
    }
  },
  "cells": [
    {
      "cell_type": "markdown",
      "metadata": {
        "id": "O2P3igccermQ",
        "colab_type": "text"
      },
      "source": [
        " https://apps.twitter.com/"
      ]
    },
    {
      "cell_type": "code",
      "metadata": {
        "id": "xuXR1ktqZWnR",
        "colab_type": "code",
        "colab": {
          "base_uri": "https://localhost:8080/",
          "height": 210
        },
        "outputId": "98c705dd-b7fc-40d0-e47c-e00a2146cd89"
      },
      "source": [
        "!pip install tweepy"
      ],
      "execution_count": null,
      "outputs": [
        {
          "output_type": "stream",
          "text": [
            "Requirement already satisfied: tweepy in /usr/local/lib/python3.6/dist-packages (3.6.0)\n",
            "Requirement already satisfied: PySocks>=1.5.7 in /usr/local/lib/python3.6/dist-packages (from tweepy) (1.7.1)\n",
            "Requirement already satisfied: requests-oauthlib>=0.7.0 in /usr/local/lib/python3.6/dist-packages (from tweepy) (1.3.0)\n",
            "Requirement already satisfied: requests>=2.11.1 in /usr/local/lib/python3.6/dist-packages (from tweepy) (2.23.0)\n",
            "Requirement already satisfied: six>=1.10.0 in /usr/local/lib/python3.6/dist-packages (from tweepy) (1.15.0)\n",
            "Requirement already satisfied: oauthlib>=3.0.0 in /usr/local/lib/python3.6/dist-packages (from requests-oauthlib>=0.7.0->tweepy) (3.1.0)\n",
            "Requirement already satisfied: certifi>=2017.4.17 in /usr/local/lib/python3.6/dist-packages (from requests>=2.11.1->tweepy) (2020.6.20)\n",
            "Requirement already satisfied: chardet<4,>=3.0.2 in /usr/local/lib/python3.6/dist-packages (from requests>=2.11.1->tweepy) (3.0.4)\n",
            "Requirement already satisfied: idna<3,>=2.5 in /usr/local/lib/python3.6/dist-packages (from requests>=2.11.1->tweepy) (2.10)\n",
            "Requirement already satisfied: urllib3!=1.25.0,!=1.25.1,<1.26,>=1.21.1 in /usr/local/lib/python3.6/dist-packages (from requests>=2.11.1->tweepy) (1.24.3)\n"
          ],
          "name": "stdout"
        }
      ]
    },
    {
      "cell_type": "code",
      "metadata": {
        "id": "zVmJTtUgZCMz",
        "colab_type": "code",
        "colab": {}
      },
      "source": [
        "import tweepy\n",
        "import json"
      ],
      "execution_count": null,
      "outputs": []
    },
    {
      "cell_type": "code",
      "metadata": {
        "id": "26gKlhxAfmv4",
        "colab_type": "code",
        "colab": {}
      },
      "source": [
        "with open('credenciais.json') as arquivo:\n",
        "  credenciais = json.load(arquivo)"
      ],
      "execution_count": null,
      "outputs": []
    },
    {
      "cell_type": "code",
      "metadata": {
        "id": "QuLywm3Lgghb",
        "colab_type": "code",
        "colab": {
          "base_uri": "https://localhost:8080/",
          "height": 34
        },
        "outputId": "47534ebf-37bb-4732-8fd0-bc5914ecf08f"
      },
      "source": [
        "print(credenciais['consumer_key'])"
      ],
      "execution_count": null,
      "outputs": [
        {
          "output_type": "stream",
          "text": [
            "VmY3N9UhjeLkmIxNdPhotGCFj\n"
          ],
          "name": "stdout"
        }
      ]
    },
    {
      "cell_type": "code",
      "metadata": {
        "id": "fnJfxTtog4qg",
        "colab_type": "code",
        "colab": {}
      },
      "source": [
        "# Criando o objeto para autenticação\n",
        "auth = tweepy.OAuthHandler(credenciais['consumer_key'], credenciais['consumer_secret'])\n",
        "# Adicionando as credenciais de acesso\n",
        "auth.set_access_token(credenciais['access_token'], credenciais['access_token_secret'])\n",
        "# Cria o objeto para acesso a API a partir da autenticação\n",
        "api = tweepy.API(auth)"
      ],
      "execution_count": null,
      "outputs": []
    },
    {
      "cell_type": "code",
      "metadata": {
        "id": "ZTeuT7m5hmH3",
        "colab_type": "code",
        "colab": {
          "base_uri": "https://localhost:8080/",
          "height": 538
        },
        "outputId": "d9d6b787-fa9b-4443-8ae1-c971a641ad0d"
      },
      "source": [
        "# coletando os twitters em minha timeline\n",
        "tweets_da_minha_timeline = api.home_timeline()\n",
        "# Mostrando os twitters\n",
        "for tweet in tweets_da_minha_timeline:\n",
        "   # realizando o print dos twitters que estão armazenados dentro do objeto twitter\n",
        "   print(tweet.text)"
      ],
      "execution_count": null,
      "outputs": [
        {
          "output_type": "stream",
          "text": [
            "08h10 Acidente na Av. Cristiano  Machado (altura da LBV) no sentido bairro-centro envolvendo 3 veículos. Equipes no… https://t.co/5D6Lvghc5C\n",
            "Suspeito de tráfico é preso com barras de maconha, cocaína e submetralhadora na Grande BH - https://t.co/GIgARU19cn https://t.co/VtUc4VjLru\n",
            "É com grande alegria que a @autotruckoficial e o @atletico anunciam o Meu Galo Auto Truck, a proteção veicular da M… https://t.co/kRHxECfvQU\n",
            "Fala, galera!\n",
            "Sabia que a Auto Truck conta com Assistência ao Motorista Profissional? Com ela você garante a sua re… https://t.co/rKsgWuvlgX\n",
            "07h40 Acidente na Av. Presidente Antônio Carlos (entrada da barragem da Pampulha), sentido centro-bairro, envolvend… https://t.co/17PHwBB5DN\n",
            "07h38 Manutenção realizada, semafóro em funcionamento. https://t.co/KZb9Nadey5\n",
            "07h32 Av Pedro I com trânsito lento,  sentindo bairro centro, entre Barragem e Rua Montese\n",
            "07h27 Av Cristiano Machado com trânsito lento, sentindo bairro centro, entre R. José Benjamin de Castro e MG-10\n",
            "7h Semáforo em flash na Rua da Bahia com Av. Bias Fortes. Equipe de manutenção a caminho.\n",
            "Percentual de brasileiros em home office cai para 11,7% em julho, aponta Ipea - https://t.co/cf9Yr6LNZG https://t.co/GKr9HfhnlV\n",
            "Juíza determina que Twitter remova publicação fake de Bolsonaro sobre 'O Processo' - https://t.co/bueArbkHHd https://t.co/9JCjD5EEaP\n",
            "Estudo brasileiro aponta que covid-19 pode causar danos cerebrais - https://t.co/MWyxmSsAek https://t.co/BzfmiC2Yky\n",
            "🏆 Copa do Brasil\n",
            "📊 4ª fase\n",
            "🏟 Arena Independência\n",
            "📍 Belo Horizonte - MG\n",
            "📆 22 de setembro\n",
            "🔊 21h30\n",
            "📻 610 AM 95,7 FM\n",
            "📺… https://t.co/zVH3xOrd3H\n",
            "⚽️ #Cruzeiro: volta do atacante Zé Eduardo praticamente sacramentada. Presidente do América/RN entendeu a importânc… https://t.co/0VSy0GU8wV\n",
            "Sargento da PM morre afogado em praia de Arraial do Cabo, no Rio de Janeiro: https://t.co/2QJqrVpWrT https://t.co/CQq29YcRRp\n",
            "⚽️❗️EXCLUSIVO\n",
            "Presidente do Atlético comenta 'caso Thiago Neves' e admite que negociação \"foi um equívoco\" | Sette… https://t.co/OZHTyylDRQ\n",
            "Cabo Washington Xavier defende corte pela metade de salários e número de vereadores de BH: https://t.co/uKcYKejpxo https://t.co/PczRiI5jD4\n",
            "#ItaVoto: entrevista com Cabo Xavier (PMB) \n",
            "Assista: https://t.co/HYLoyFG0kH\n",
            "21h02 Sem ocorrência de estaque no momento.\n",
            "⚽🐰 Hoje é dia de #AcreditaAmerica!\n",
            "@emersonromano conversa com a nova técnica do time feminino do @americamg,… https://t.co/24bRLkE4ki\n"
          ],
          "name": "stdout"
        }
      ]
    },
    {
      "cell_type": "code",
      "metadata": {
        "id": "fTZrGkapiXRs",
        "colab_type": "code",
        "colab": {
          "base_uri": "https://localhost:8080/",
          "height": 34
        },
        "outputId": "4cf8973e-62e1-489a-d678-8fe05d5bb566"
      },
      "source": [
        "type(tweets_da_minha_timeline[0])"
      ],
      "execution_count": null,
      "outputs": [
        {
          "output_type": "execute_result",
          "data": {
            "text/plain": [
              "tweepy.models.Status"
            ]
          },
          "metadata": {
            "tags": []
          },
          "execution_count": 27
        }
      ]
    },
    {
      "cell_type": "code",
      "metadata": {
        "id": "XJfmBx7bi25X",
        "colab_type": "code",
        "colab": {}
      },
      "source": [
        "#coletando twitters através da #\n",
        "# Criando o objeto twitter\n",
        "api = tweepy.API(auth)\n"
      ],
      "execution_count": null,
      "outputs": []
    },
    {
      "cell_type": "code",
      "metadata": {
        "id": "ljLUD_dajAai",
        "colab_type": "code",
        "colab": {
          "base_uri": "https://localhost:8080/",
          "height": 319
        },
        "outputId": "943ef40f-6884-4fd6-d418-36d78ab89f04"
      },
      "source": [
        "# O termo que desejamos pesquisar\n",
        "pesquisa = \"Bolsonaro\"\n",
        "# linguagem (padrão ISO 639-1 )\n",
        "linguagem = \"pt\"\n",
        "\n",
        "# definindo a pesquisa a ser realizada\n",
        "resultados = api.search(q=pesquisa, lang=linguagem)\n",
        "\n",
        "# realiza o print para cada twitter encontrado\n",
        "for tweet in resultados:\n",
        "   # realiza o print do texto presente no json retornado pelo twitter\n",
        "   print(tweet.user.screen_name,\"Tweetado:\",tweet.text)"
      ],
      "execution_count": null,
      "outputs": [
        {
          "output_type": "stream",
          "text": [
            "Oprovisoriomil2 Tweetado: RT @OTEBAFLA: “Bolsonaro lidera em todos os estados, mas não no Brasil inteiro” diz Dilma. https://t.co/gT5eAFBKww\n",
            "FlorizaFranco Tweetado: RT @gduvivier: flavio bolsonaro convocado pela PF pra ficar cara a cara com paulo marinho que o acusa de envolvimento no vazamento de opera…\n",
            "w_poc Tweetado: RT @vantaevil: pelo visto o presidente do brasil também vai discursar na ONU, bolsonaro faz favor e entregue o país nas mãos do namjoon apo…\n",
            "ivaniguerreiro Tweetado: RT @dimacgarcia: Hoje o presidente Bolsonaro falará a ONU em discurso gravado. Espero um discurso altivo, soberano e que marque mais uma ve…\n",
            "desempregobot Tweetado: RT @scarlosferrari: A verdade é, o povo jaz liberto do carcere esquerdista populista pregador da desgraça. Desde o início, o PR Jair Bolson…\n",
            "PortalR3 Tweetado: Pelo segundo ano, Amazônia será tema de Bolsonaro em discurso na ONU https://t.co/hddzr2ism5\n",
            "cccalado Tweetado: RT @PATRlOTAS: Eduardo Bolsonaro, Sikera Jr e Flavio Bolsonaro irritando maconheiros. https://t.co/9dMqalxtSQ\n",
            "Kadyonoro Tweetado: RT @requiaopmdb: Se é fato que existia e existe corrupção no Brasil, é fato hoje comprovado que as investigações o MP e judiciário foram ma…\n",
            "HerosMoraes Tweetado: @edusilvafogo @a_postagem Quem é flavio bolsonaro? Talvez devessem lembrar o “moço” dos 39 kg de cocaína no avião p… https://t.co/js5e6nzEW3\n",
            "Omnipangolin Tweetado: RT @Estadao: Carlos Bolsonaro diz que 'ONGs vagabundas' fazem 'movimento orquestrado' contra seu pai\n",
            "https://t.co/QlHE9Q8Jhi\n",
            "a_mosca_na_sopa Tweetado: RT @JrDalberto: Discurso de Bolsonaro na ONU é a prova de que o fracasso subiu à cabeça https://t.co/KEjjtRpYNW via @UOLNoticias @UOL\n",
            "AntonioDirceu4 Tweetado: RT @fabifbbr: Já estou com minhas luvas de 🥊, só para dar o Hook (gancho) naqueles que vão chorar na pia com o discurso do Presidente Bolso…\n",
            "LucasFe38830324 Tweetado: RT @MarcosQuezado1: Governo Bolsonaro põe 3 mil soldados em Manaus para mostrar força na Amazônia: O objetivo das manobras militares do Exé…\n",
            "anaclara7dr Tweetado: RT @yunhocrystal: O namjoon na ONU brigando com o Bolsonaro pela presidência do Brasil https://t.co/Fvpg9f8Re4\n",
            "luissilro Tweetado: RT @fec5588fm: Bom dia Patriotas ... que chuvinha benção, foi o Bolsonaro quem mandou chover?\n",
            "\n",
            "Deus abençoe o seu dia Presidente @jairbolso…\n"
          ],
          "name": "stdout"
        }
      ]
    },
    {
      "cell_type": "code",
      "metadata": {
        "id": "lMdTciF4j15t",
        "colab_type": "code",
        "colab": {
          "base_uri": "https://localhost:8080/",
          "height": 857
        },
        "outputId": "d4b14216-0848-46d4-b62d-70bc8294a008"
      },
      "source": [
        "#trending topics\n",
        "# Where On Earth ID para o Brazil é 23424768.\n",
        "BRAZIL_WOE_ID = 23424768\n",
        " \n",
        "brazil_trends = api.trends_place(BRAZIL_WOE_ID)\n",
        " \n",
        "trends = json.loads(json.dumps(brazil_trends, indent=1))\n",
        " \n",
        "for trend in trends[0][\"trends\"]:\n",
        "\tprint (trend[\"name\"])#.strip(\"#\"))"
      ],
      "execution_count": null,
      "outputs": [
        {
          "output_type": "stream",
          "text": [
            "#NCT2020_YearParty\n",
            "#BDSP\n",
            "#TercaDetremuraSDV\n",
            "renjun\n",
            "#문빈산하_BadIdea1stWin\n",
            "yuta\n",
            "JUSTIÇA POR MARI FERRER\n",
            "Cirilo\n",
            "#bgmanharj\n",
            "Casagrande\n",
            "HOJE TEM FLAMENGO\n",
            "Tirei 22\n",
            "Maicon Kuster\n",
            "PABLLO VITTAR IS COMING\n",
            "Molho\n",
            "Flávio Bolsonaro\n",
            "Gkay\n",
            "Vinagrete\n",
            "Ana Maria Braga\n",
            "Felipe Melo\n",
            "jinyoung\n",
            "rubinho\n",
            "Series S\n",
            "Raiders\n",
            "Libra\n",
            "Saints\n",
            "Zendaya\n",
            "bibi\n",
            "Among Us\n",
            "Bethesda\n",
            "Daniel Alves\n",
            "JOJO MERECE RESPEITO\n",
            "Ritinha\n",
            "everglow\n",
            "Samira\n",
            "obrigado naruto\n",
            "#Primavera\n",
            "#ProvaDeFogo\n",
            "#LUTO\n",
            "#ACabana\n",
            "#BorahaeBTSnet\n",
            "#SomosUmaNacao\n",
            "#RodaViva\n",
            "#JISOO\n",
            "#aforcadoquerer\n",
            "#foracarolsolberg\n",
            "#wearamask\n",
            "#Emmys\n",
            "#CalaABocaBotafogo\n",
            "#emmytnt\n"
          ],
          "name": "stdout"
        }
      ]
    }
  ]
}