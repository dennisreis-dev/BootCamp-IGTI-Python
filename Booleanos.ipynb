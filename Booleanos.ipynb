{
  "nbformat": 4,
  "nbformat_minor": 0,
  "metadata": {
    "colab": {
      "name": "Booleanos.ipynb",
      "provenance": [],
      "authorship_tag": "ABX9TyOS55k/JA7biHOQyRwCdP1S"
    },
    "kernelspec": {
      "name": "python3",
      "display_name": "Python 3"
    }
  },
  "cells": [
    {
      "cell_type": "markdown",
      "metadata": {
        "id": "tqH44Nq4MN0d",
        "colab_type": "text"
      },
      "source": [
        "**VALORES BOOLEANOS**"
      ]
    },
    {
      "cell_type": "code",
      "metadata": {
        "id": "zHToN8GsMFdS",
        "colab_type": "code",
        "colab": {
          "base_uri": "https://localhost:8080/",
          "height": 51
        },
        "outputId": "1dbe246d-c593-4191-f6a1-1d42aae28deb"
      },
      "source": [
        "#mostrando os tipos de dados booleanos\n",
        "print(type(True)) #verdadeiro\n",
        "print(type(False)) #Falso"
      ],
      "execution_count": null,
      "outputs": [
        {
          "output_type": "stream",
          "text": [
            "<class 'bool'>\n",
            "<class 'bool'>\n"
          ],
          "name": "stdout"
        }
      ]
    }
  ]
}