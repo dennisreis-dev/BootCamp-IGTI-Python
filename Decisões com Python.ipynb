{
  "nbformat": 4,
  "nbformat_minor": 0,
  "metadata": {
    "colab": {
      "name": "Untitled1.ipynb",
      "provenance": [],
      "authorship_tag": "ABX9TyMGZxIWYgxetaY8whWCMkiw",
      "include_colab_link": true
    },
    "kernelspec": {
      "name": "python3",
      "display_name": "Python 3"
    }
  },
  "cells": [
    {
      "cell_type": "markdown",
      "metadata": {
        "id": "view-in-github",
        "colab_type": "text"
      },
      "source": [
        "<a href=\"https://colab.research.google.com/github/dennisreis-dev/IGTI-Python/blob/master/Decis%C3%B5es%20com%20Python.ipynb\" target=\"_parent\"><img src=\"https://colab.research.google.com/assets/colab-badge.svg\" alt=\"Open In Colab\"/></a>"
      ]
    },
    {
      "cell_type": "markdown",
      "metadata": {
        "id": "3jeaTYVKXeEw",
        "colab_type": "text"
      },
      "source": [
        "**Capítulo 2 - Decisões com Python**"
      ]
    },
    {
      "cell_type": "code",
      "metadata": {
        "id": "KjPsPTvYXbJN",
        "colab_type": "code",
        "colab": {
          "base_uri": "https://localhost:8080/",
          "height": 85
        },
        "outputId": "769ea549-b508-4c0d-cc3f-59f6deeb8d00"
      },
      "source": [
        " #O Condicional \"if\"\n",
        " #exemplo\n",
        " print(\"Execução antes do if...\")\n",
        " numero = float(input(\"Entre com um número: \"))\n",
        " if numero%2==0:\n",
        "    print(\"Esse é um número par: \")\n",
        "print(\"Execução após o if...\")"
      ],
      "execution_count": null,
      "outputs": [
        {
          "output_type": "stream",
          "text": [
            "Execução antes do if...\n",
            "Entre com um número: 10\n",
            "Esse é um número par: \n",
            "Execução após o if...\n"
          ],
          "name": "stdout"
        }
      ]
    },
    {
      "cell_type": "code",
      "metadata": {
        "id": "8ooq3HfoLkcB",
        "colab_type": "code",
        "colab": {
          "base_uri": "https://localhost:8080/",
          "height": 85
        },
        "outputId": "daf96865-98a7-453a-8426-034780b7b992"
      },
      "source": [
        "print(\"Execução antes do if... \")\n",
        "numero = float(input(\"Entre com um número par: \"))\n",
        "if numero>0:\n",
        "    print(\"Esse número é positivo.\")\n",
        "print(\"Execução após o if...\")"
      ],
      "execution_count": null,
      "outputs": [
        {
          "output_type": "stream",
          "text": [
            "Execução antes do if... \n",
            "Entre com um número par: 10\n",
            "Esse número é positivo.\n",
            "Execução após o if...\n"
          ],
          "name": "stdout"
        }
      ]
    },
    {
      "cell_type": "code",
      "metadata": {
        "id": "KRTNvWh0bw_Q",
        "colab_type": "code",
        "colab": {
          "base_uri": "https://localhost:8080/",
          "height": 34
        },
        "outputId": "c3e6865f-eb64-442a-ed87-32dc99cc3724"
      },
      "source": [
        "i = 10\n",
        "if (i > 15):\n",
        "    print(\"10 é maior que 15\")\n",
        "print(\"Continuando o programa...\")\n"
      ],
      "execution_count": null,
      "outputs": [
        {
          "output_type": "stream",
          "text": [
            "Continuando o programa...\n"
          ],
          "name": "stdout"
        }
      ]
    },
    {
      "cell_type": "markdown",
      "metadata": {
        "id": "SPmXtVTec_dp",
        "colab_type": "text"
      },
      "source": [
        "**O Caso if-else**"
      ]
    },
    {
      "cell_type": "code",
      "metadata": {
        "id": "zboCOGVXdFj_",
        "colab_type": "code",
        "colab": {
          "base_uri": "https://localhost:8080/",
          "height": 119
        },
        "outputId": "29a442a2-ec00-4ce1-fc65-19fe42eb08ce"
      },
      "source": [
        "#exemplo\n",
        "print(\"Execução antes do if...\\n\")\n",
        "numero = float(input(\"Entre com o número: \"))\n",
        "if numero%2==0:\n",
        "    print(\"Esse número é par.\\n\")\n",
        "else:\n",
        "    print(\"Esse número é impar.\\n\")\n",
        "print(\"Execução após o if...\")"
      ],
      "execution_count": null,
      "outputs": [
        {
          "output_type": "stream",
          "text": [
            "Execução antes do if...\n",
            "\n",
            "Entre com o número: 10\n",
            "Esse número é par.\n",
            "\n",
            "Execução após o if...\n"
          ],
          "name": "stdout"
        }
      ]
    },
    {
      "cell_type": "code",
      "metadata": {
        "id": "AQ5na51DhhZo",
        "colab_type": "code",
        "colab": {
          "base_uri": "https://localhost:8080/",
          "height": 68
        },
        "outputId": "c44a9b3a-e536-45aa-823c-7a70de943c01"
      },
      "source": [
        "i = 20;\n",
        "if ( i < 15):\n",
        "    print(\"i é menor que 15\")\n",
        "    print(\"Execução do if...\")\n",
        "else:\n",
        "    print(\"i é maior que 15\")\n",
        "    print(\"Execução do else...\")\n",
        "print(\"Continuando o programa..........\")"
      ],
      "execution_count": null,
      "outputs": [
        {
          "output_type": "stream",
          "text": [
            "i é maior que 15\n",
            "Execução do else...\n",
            "Continuando o programa..........\n"
          ],
          "name": "stdout"
        }
      ]
    },
    {
      "cell_type": "markdown",
      "metadata": {
        "id": "8RvebAlYjy6S",
        "colab_type": "text"
      },
      "source": [
        "**Encontrando o maior valor entre dois números digitados**"
      ]
    },
    {
      "cell_type": "code",
      "metadata": {
        "id": "5WrG0ju0j8G9",
        "colab_type": "code",
        "colab": {
          "base_uri": "https://localhost:8080/",
          "height": 68
        },
        "outputId": "c0d30116-64d8-4df1-90c4-8714cec0e85b"
      },
      "source": [
        "x = int(input(\"Digite o primeiro número: \"))\n",
        "y = int(input(\"Digite o segundo número: \"))\n",
        "if (x>y):\n",
        "    print(\"O primeiro valor (%2d) é maior que o segundo valor (%2d) \"%(x,y))\n",
        "else:\n",
        "    print(\"O primeiro valor (%2d) é menor que o segundo valor (%2d)\"%(x,y))\n"
      ],
      "execution_count": null,
      "outputs": [
        {
          "output_type": "stream",
          "text": [
            "Digite o primeiro número: 300\n",
            "Digite o segundo número: 200\n",
            "O primeiro valor (300) é maior que o segundo valor (200) \n"
          ],
          "name": "stdout"
        }
      ]
    },
    {
      "cell_type": "markdown",
      "metadata": {
        "id": "8RyfPOIRljVB",
        "colab_type": "text"
      },
      "source": [
        "**if com condições mais \"elaboradas\"**"
      ]
    },
    {
      "cell_type": "code",
      "metadata": {
        "id": "1CWghpepm5fI",
        "colab_type": "code",
        "colab": {
          "base_uri": "https://localhost:8080/",
          "height": 51
        },
        "outputId": "4dcc9be0-c0b3-4ed9-b527-4a12970cfa9f"
      },
      "source": [
        "#if com condicional or\n",
        "altura = int(input(\"Entre com a sua altura (em centimetros):\"))\n",
        "if (altura<150) or (altura>180):\n",
        "    print(\"VocÊ não pode brincar\")\n",
        "else:\n",
        "    print(\"Você pode brincar\")"
      ],
      "execution_count": null,
      "outputs": [
        {
          "output_type": "stream",
          "text": [
            "Entre com a sua altura (em centimetros):190\n",
            "VocÊ não pode brincar\n"
          ],
          "name": "stdout"
        }
      ]
    },
    {
      "cell_type": "code",
      "metadata": {
        "id": "gf-FeJF6oNAS",
        "colab_type": "code",
        "colab": {
          "base_uri": "https://localhost:8080/",
          "height": 284
        },
        "outputId": "272afa9d-efd2-433e-8690-67fb3bfc4b96"
      },
      "source": [
        "#adivinhando o resultados da divisão\n",
        "numero = float(input(\"Entre com um numerador:\"))\n",
        "denominador = float(input(\"Entre com o denominador\"))\n",
        "\n",
        "chute = float(input(\"Entre com o seu chute para o resultado\"))\n",
        "\n",
        "resultado=numerador/denominador\n",
        "maior = abs(resultado)\n",
        "\n",
        "#verifica se o chute é até 1/10 do real\n",
        "if abs((chute-resultado)/maior) <=0.1:\n",
        "    print(\"Seu chute está correto parabéns\")\n",
        "else:\n",
        "    print(\"Que pena, você errou. O valor correta é {}\".format(resultado))\n",
        "\n"
      ],
      "execution_count": null,
      "outputs": [
        {
          "output_type": "stream",
          "text": [
            "Entre com um numerador:10\n",
            "Entre com o denominador9\n",
            "Entre com o seu chute para o resultado\n"
          ],
          "name": "stdout"
        },
        {
          "output_type": "error",
          "ename": "ValueError",
          "evalue": "ignored",
          "traceback": [
            "\u001b[0;31m---------------------------------------------------------------------------\u001b[0m",
            "\u001b[0;31mValueError\u001b[0m                                Traceback (most recent call last)",
            "\u001b[0;32m<ipython-input-30-4320065e66dd>\u001b[0m in \u001b[0;36m<module>\u001b[0;34m()\u001b[0m\n\u001b[1;32m      3\u001b[0m \u001b[0mdenominador\u001b[0m \u001b[0;34m=\u001b[0m \u001b[0mfloat\u001b[0m\u001b[0;34m(\u001b[0m\u001b[0minput\u001b[0m\u001b[0;34m(\u001b[0m\u001b[0;34m\"Entre com o denominador\"\u001b[0m\u001b[0;34m)\u001b[0m\u001b[0;34m)\u001b[0m\u001b[0;34m\u001b[0m\u001b[0;34m\u001b[0m\u001b[0m\n\u001b[1;32m      4\u001b[0m \u001b[0;34m\u001b[0m\u001b[0m\n\u001b[0;32m----> 5\u001b[0;31m \u001b[0mchute\u001b[0m \u001b[0;34m=\u001b[0m \u001b[0mfloat\u001b[0m\u001b[0;34m(\u001b[0m\u001b[0minput\u001b[0m\u001b[0;34m(\u001b[0m\u001b[0;34m\"Entre com o seu chute para o resultado\"\u001b[0m\u001b[0;34m)\u001b[0m\u001b[0;34m)\u001b[0m\u001b[0;34m\u001b[0m\u001b[0;34m\u001b[0m\u001b[0m\n\u001b[0m\u001b[1;32m      6\u001b[0m \u001b[0;34m\u001b[0m\u001b[0m\n\u001b[1;32m      7\u001b[0m \u001b[0mresultado\u001b[0m\u001b[0;34m=\u001b[0m\u001b[0mnumerador\u001b[0m\u001b[0;34m/\u001b[0m\u001b[0mdenominador\u001b[0m\u001b[0;34m\u001b[0m\u001b[0;34m\u001b[0m\u001b[0m\n",
            "\u001b[0;31mValueError\u001b[0m: could not convert string to float: "
          ]
        }
      ]
    },
    {
      "cell_type": "markdown",
      "metadata": {
        "id": "KQd7wlQfm1tm",
        "colab_type": "text"
      },
      "source": [
        "**Trabalhando com \"If\" aninhados**"
      ]
    },
    {
      "cell_type": "code",
      "metadata": {
        "id": "YfGEG7oYltVV",
        "colab_type": "code",
        "colab": {}
      },
      "source": [
        ""
      ],
      "execution_count": null,
      "outputs": []
    }
  ]
}